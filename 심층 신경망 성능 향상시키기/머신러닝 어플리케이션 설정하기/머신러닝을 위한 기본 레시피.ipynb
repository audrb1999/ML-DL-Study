{
  "nbformat": 4,
  "nbformat_minor": 0,
  "metadata": {
    "colab": {
      "name": "Andrew_Ng_2_3.ipynb",
      "provenance": [],
      "collapsed_sections": [],
      "toc_visible": true,
      "authorship_tag": "ABX9TyP5AuEydVBgGlfuqKpGxUPB",
      "include_colab_link": true
    },
    "kernelspec": {
      "name": "python3",
      "display_name": "Python 3"
    },
    "language_info": {
      "name": "python"
    }
  },
  "cells": [
    {
      "cell_type": "markdown",
      "metadata": {
        "id": "view-in-github",
        "colab_type": "text"
      },
      "source": [
        "<a href=\"https://colab.research.google.com/github/audrb1999/ML-DL-Study/blob/main/%EC%8B%AC%EC%B8%B5%20%EC%8B%A0%EA%B2%BD%EB%A7%9D%20%EC%84%B1%EB%8A%A5%20%ED%96%A5%EC%83%81%EC%8B%9C%ED%82%A4%EA%B8%B0/%EB%A8%B8%EC%8B%A0%EB%9F%AC%EB%8B%9D%20%EC%96%B4%ED%94%8C%EB%A6%AC%EC%BC%80%EC%9D%B4%EC%85%98%20%EC%84%A4%EC%A0%95%ED%95%98%EA%B8%B0/%EB%A8%B8%EC%8B%A0%EB%9F%AC%EB%8B%9D%EC%9D%84%20%EC%9C%84%ED%95%9C%20%EA%B8%B0%EB%B3%B8%20%EB%A0%88%EC%8B%9C%ED%94%BC.ipynb\" target=\"_parent\"><img src=\"https://colab.research.google.com/assets/colab-badge.svg\" alt=\"Open In Colab\"/></a>"
      ]
    },
    {
      "cell_type": "markdown",
      "metadata": {
        "id": "bYdnVozXc-uB"
      },
      "source": [
        "#**머신러닝을 위한 기본 레시피**"
      ]
    },
    {
      "cell_type": "markdown",
      "metadata": {
        "id": "uJWQ7s6cdGsW"
      },
      "source": [
        "신경망을 훈련할 때 Andrew Ng 교수님이 사용하는 레시피\n",
        "\n",
        "최초 모델을 훈련하고 난 뒤 처음으로 알고리즘이 높은 편향을 가지는지\n",
        "평가\n",
        "\n",
        "만약 높은 편향을 가져서 훈련 세트에도 잘 맞지 않는다면\n",
        "\n",
        "1. 더 많은 은닉층 또는 은닉유닛을 갖는 네트워크를 선택\n",
        "\n",
        "2. 더 오랜 시간 훈련시키거나 다른 최적화 알고리즘을 사용\n",
        "\n",
        "3. 이 문제에 더 알맞은 신경망 아키텍처를 찾기\n",
        "\n",
        "\n",
        "1번은 긍정적인 결과가 많고 2번은 도움이 안될 수도 있지만 해는 되지 않지만\n",
        "3번은 어떻게 될지 모른다!\n",
        "\n",
        ">Train set이나 Dev set은 주로 편향이나 분산 문제를 진단하는데 사용!"
      ]
    },
    {
      "cell_type": "markdown",
      "metadata": {
        "id": "_0E-oIhdesLB"
      },
      "source": [
        "규모가 큰 신경망은 보통 훈련데이터는 잘 맞춤, 베이즈 오차가 작을 때 훈련 횟수가 많으면 정확도가 높을 것이다. overfitting 현상이 생길 위험이 높지만.."
      ]
    },
    {
      "cell_type": "markdown",
      "metadata": {
        "id": "wqPyykNHfMSh"
      },
      "source": [
        "높은 현향을 고치는데 성공했다면 그 다음으로 봐야할 것은 분산문제를 확인해 봐야합니다."
      ]
    },
    {
      "cell_type": "markdown",
      "metadata": {
        "id": "g1-rttYZfVxw"
      },
      "source": [
        "만약 높은 분산 문제가 있을 때 이를 해결하는 가장 좋은 방법은 데이터를 더 얻는 것입니다.\n",
        "\n",
        "하지만 데이터를 얻지 못하는 경우에는 정규화를 시도할 수 있습니다\n",
        "\n",
        ">또는 더 적합한 신경망 아키텍처를 찾는 방법도 있습니다.\n",
        "> 이것으로 편향을 줄이거나 분산을 줄이는 효과를 가질 때가 있습니다."
      ]
    },
    {
      "cell_type": "markdown",
      "metadata": {
        "id": "1kAvQHVLgDOR"
      },
      "source": [
        "지금 편향과 분산 중 어떤 문제가 있는지 혹은 둘 다 어느 정도의 문제가 있는지 알고 알맞은 방법을 찾는 것이 중요합니다. 분산을 줄이는데 추가 데이터를 넣는 것은 좋지만 이 방법은 편향을 줄이는데 도움이 되지기 때문에 문제를 진단하는 것이 중요합니다."
      ]
    },
    {
      "cell_type": "markdown",
      "metadata": {
        "id": "JvDvEqrWhBV4"
      },
      "source": [
        "초기 머신러닝 시대에는 편향-분산 트레이드오프(딜레마)에 대한 많은 논의가 있었습니다."
      ]
    },
    {
      "cell_type": "markdown",
      "metadata": {
        "id": "6UboLw2nkASZ"
      },
      "source": [
        "그 이유는 대부분의 방법들이 편향을 감소시키면 분산을 증가시키거나 분산을 감소시키면 편향을 증가시키는 문제가 있었기 때문입니다.\n",
        "\n",
        "초기에는 서로를 나쁘게 하지않고 편향만 감소시키거나 분산만 감소시키는 툴이 많이 없었습니다.\n"
      ]
    },
    {
      "cell_type": "markdown",
      "metadata": {
        "id": "6IEk0dKBmtfa"
      },
      "source": [
        "> 그러나 현재 딥러닝 시대에는 더 큰 네트워크를 훈련시키고 더 많은 데이터를 얻는 것은 매번 그런건 아니지만 올바른 정규화가 이루어졌다는 조건을 맞춘다면 대부분 분산을 해치지 않고 편향만 감소 시킵니다.\n",
        "\n",
        "> 그리고 데이터를 더 얻는 방법도 대부분 편향을 해치지 않고 분산을 감소시킵니다."
      ]
    },
    {
      "cell_type": "markdown",
      "metadata": {
        "id": "vqFFwROgnDM5"
      },
      "source": [
        "편향과 분산의 균형을 신경써야하는 트레이드오프가 적기 때문에\n",
        "\n",
        "이것이 지도학습에 딥러닝이 매우 유용한 이유중 하나라고 생각합니다!"
      ]
    },
    {
      "cell_type": "markdown",
      "metadata": {
        "id": "iq90CzQbnWpR"
      },
      "source": [
        "하지만 너무 큰 신경망을 훈련시키면 계산 시간이 오래걸린다는 단점이 있기 때문에 적절히 사용해야합니다."
      ]
    }
  ]
}