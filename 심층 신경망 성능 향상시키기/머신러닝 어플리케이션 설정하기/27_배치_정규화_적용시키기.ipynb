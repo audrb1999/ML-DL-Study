{
  "nbformat": 4,
  "nbformat_minor": 0,
  "metadata": {
    "colab": {
      "name": "27.배치 정규화 적용시키기.ipynb",
      "provenance": [],
      "collapsed_sections": [],
      "authorship_tag": "ABX9TyPotqM78aNeD16KuGQvkDyx",
      "include_colab_link": true
    },
    "kernelspec": {
      "name": "python3",
      "display_name": "Python 3"
    },
    "language_info": {
      "name": "python"
    }
  },
  "cells": [
    {
      "cell_type": "markdown",
      "metadata": {
        "id": "view-in-github",
        "colab_type": "text"
      },
      "source": [
        "<a href=\"https://colab.research.google.com/github/audrb1999/ML-DL-Study/blob/main/%EC%8B%AC%EC%B8%B5%20%EC%8B%A0%EA%B2%BD%EB%A7%9D%20%EC%84%B1%EB%8A%A5%20%ED%96%A5%EC%83%81%EC%8B%9C%ED%82%A4%EA%B8%B0/%EB%A8%B8%EC%8B%A0%EB%9F%AC%EB%8B%9D%20%EC%96%B4%ED%94%8C%EB%A6%AC%EC%BC%80%EC%9D%B4%EC%85%98%20%EC%84%A4%EC%A0%95%ED%95%98%EA%B8%B0/27_%EB%B0%B0%EC%B9%98_%EC%A0%95%EA%B7%9C%ED%99%94_%EC%A0%81%EC%9A%A9%EC%8B%9C%ED%82%A4%EA%B8%B0.ipynb\" target=\"_parent\"><img src=\"https://colab.research.google.com/assets/colab-badge.svg\" alt=\"Open In Colab\"/></a>"
      ]
    },
    {
      "cell_type": "markdown",
      "metadata": {
        "id": "40YKn4EoygYm"
      },
      "source": [
        "# 배치 정규화 적용시키기"
      ]
    },
    {
      "cell_type": "markdown",
      "metadata": {
        "id": "O1mIRI1C6IrN"
      },
      "source": [
        "배치 정규화 = BN으로 줄여쓸 수 있다\n",
        "\n",
        "$z^{[1]}$을 정규화 하면 된다, 그것을 베타 감마로 조절하여 정규화하고\n",
        "\n",
        "활성화 함수를 사용하여 $a^{[1]}$으로 바꿔준다\n",
        "\n",
        "그 다음 다시 이것을 다음층으로 넘겨 연산을 해$z^{[2]}$를 만들어주면 된다!\n",
        "\n",
        "이것을 반복!"
      ]
    },
    {
      "cell_type": "markdown",
      "metadata": {
        "id": "EU7DopOA6IpV"
      },
      "source": [
        "여기서 각 층에서 사용되는 베타는 모멘텀이나 기하급수 평균에서 사용하는 베타와 다릅니다."
      ]
    },
    {
      "cell_type": "markdown",
      "metadata": {
        "id": "jhGrcEYz6Iml"
      },
      "source": [
        "여기서도 베타 값을 조절해줘야하는데(각 층에 쓰이는 베타)\n",
        "\n",
        "- 경사 하강법\n",
        "\n",
        "$\\beta = \\beta - \\alpha d\\beta$ 이렇게 수정한다면\n",
        "\n",
        "> Adam, RMSprop, 모멘텀을 사용해서도 $\\beta$, $\\gamma$를 업데이트 할 수 있습니다."
      ]
    },
    {
      "cell_type": "markdown",
      "metadata": {
        "id": "UQpnE-Hw6Ik1"
      },
      "source": [
        "틸다 계산을 해줄 때 평균울 빼주기에 bias가 사라집니다.\n",
        "\n",
        "> 어무런 영향을 주지 못한다\n",
        "\n",
        "배치 정규화가 $z^{[l]}$의 평균을 0으로 만들기 때문에 bias라는 변수는 필요없습니다.\n",
        "\n",
        "그 역할을 $\\beta^{[l]}$이 대신합니다.\n",
        "\n",
        "$z^{[l]} = \\gamma^{[l]} z^{[l]}_{norm} + \\beta^{[l]}$\n",
        "\n",
        "편향 변수를  결정해줍니다.\n",
        "\n",
        "z틸다는 일반 z를 평균과 표준편차를 이용하여 바꿔준 것"
      ]
    },
    {
      "cell_type": "markdown",
      "metadata": {
        "id": "60bpA14x6IiV"
      },
      "source": [
        "위에서 쓰인  $\\gamma^{[l]}  \\beta^{[l]} W^{[l]}$에 대하여 $d\\gamma^{[l]}  d\\beta^{[l]} dW^{[l]}$를 구해줘서 각 변수를 업데이트 합니다!\n",
        "\n",
        "bias는 사라졌으므로 무시!\n",
        "\n",
        "최적화 알고리즘을 활용해서 학습"
      ]
    },
    {
      "cell_type": "markdown",
      "metadata": {
        "id": "ESus_41U6II9"
      },
      "source": [
        "- 은닉층에서 두 단계로 나뉩니다.\n",
        "   - 첫째, 선형결합인 z 를 계산하고, 이를 배치 정규화 시킵니다.\n",
        "   - 둘째, 정규화 된 값들을 활성화 함수를 거쳐 활성화 값 a 를 얻습니다.\n",
        "\n",
        "- 선형결합 단계에서 상수항 b 는 없어집니다. 그 이유는 배치 정규화 과정에서 z의 평균을 빼주면 사라지기 때문입니다."
      ]
    }
  ]
}