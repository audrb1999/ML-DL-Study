{
  "nbformat": 4,
  "nbformat_minor": 0,
  "metadata": {
    "colab": {
      "name": "Adam최적화.ipynb",
      "provenance": [],
      "collapsed_sections": [],
      "authorship_tag": "ABX9TyPtilqgGwoCZ3FgVYv8bIPf",
      "include_colab_link": true
    },
    "kernelspec": {
      "name": "python3",
      "display_name": "Python 3"
    },
    "language_info": {
      "name": "python"
    }
  },
  "cells": [
    {
      "cell_type": "markdown",
      "metadata": {
        "id": "view-in-github",
        "colab_type": "text"
      },
      "source": [
        "<a href=\"https://colab.research.google.com/github/audrb1999/ML-DL-Study/blob/main/%EC%8B%AC%EC%B8%B5%20%EC%8B%A0%EA%B2%BD%EB%A7%9D%20%EC%84%B1%EB%8A%A5%20%ED%96%A5%EC%83%81%EC%8B%9C%ED%82%A4%EA%B8%B0/%EB%A8%B8%EC%8B%A0%EB%9F%AC%EB%8B%9D%20%EC%96%B4%ED%94%8C%EB%A6%AC%EC%BC%80%EC%9D%B4%EC%85%98%20%EC%84%A4%EC%A0%95%ED%95%98%EA%B8%B0/21.Adam%EC%B5%9C%EC%A0%81%ED%99%94.ipynb\" target=\"_parent\"><img src=\"https://colab.research.google.com/assets/colab-badge.svg\" alt=\"Open In Colab\"/></a>"
      ]
    },
    {
      "cell_type": "markdown",
      "metadata": {
        "id": "uh-9Q3nwH28q"
      },
      "source": [
        "# Adam 최적화 알고리즘\n",
        "\n",
        "- 시도를 망설이지 않아도 되는 알고리즘 = 매번 괜찮은 성능을 보여줌"
      ]
    },
    {
      "cell_type": "markdown",
      "metadata": {
        "id": "xzJVMzYzH26q"
      },
      "source": [
        "Adam 최적화는 RMSprop와 모멘텀을 합친 알고리즘입니다.\n",
        "\n",
        "- 모맨텀\n",
        "   - $V_{dw} = \\beta_1 * V_{[dw]} + (1 - \\beta_1)dw$\n",
        "\n",
        "- RMSprop\n",
        "  - $s_{dw} = \\beta_2  \\space \\times s\\_dw \\space + (1-\\beta_2) \\times dw^2 $\n"
      ]
    },
    {
      "cell_type": "markdown",
      "metadata": {
        "id": "ldgQ8-B5H24b"
      },
      "source": [
        "Adam을 구현하기 위해서는 v_dw와 s_dw를 0으로 초기화 해야합니다.\n",
        "\n",
        "- v_dw = 0\n",
        "- s_dw = 0, db들도 마찬가지\n",
        "\n",
        "반복 t에서 dw, db를 현재의 미니배치를 써서 계산합니다.\n",
        "\n",
        "그리고 모멘텀 지수 가중 평균을 계산합니다.\n",
        "\n",
        "$\\beta$ 값들은 다릅니다.\n",
        "\n"
      ]
    },
    {
      "cell_type": "markdown",
      "metadata": {
        "id": "Qxn-COk8H22K"
      },
      "source": [
        "Adam 구현에서는 편향 보정을 합니다.\n",
        "\n",
        "$$V_{dw}^{corrected} = \\frac {v_{dw}}  {(1-\\beta_1^t)}$$\n",
        "\n",
        "$$S_{dw}^{corrected} = \\frac {S_{dw}}  {(1-\\beta_1^t)}$$\n",
        "\n",
        "\n",
        "$$W := W - \\alpha \\frac {V_{dw}^{corrected}} {\\sqrt {S_{dw}^{corrected} + \\epsilon}}$$\n",
        "\n",
        "b도 동일합니다."
      ]
    },
    {
      "cell_type": "markdown",
      "metadata": {
        "id": "97tdU1U6H2z6"
      },
      "source": [
        "이 알고리즘은 모멘텀이 있는 경사 하강법의 효과와 RMSprop에 있는 경사 하강법의 효과를 합친 결과가 나옵니다."
      ]
    },
    {
      "cell_type": "markdown",
      "metadata": {
        "id": "PV20uYiJH2xS"
      },
      "source": [
        "## Hyperparameters choice\n",
        "\n",
        "Adam 논문에서 저자가 추천하는 값\n",
        "\n",
        "- $\\alpha$ : 적절히 맞는 값을 찾아야함\n",
        "\n",
        "- $\\beta_1$ : 0.9 \n",
        "\n",
        "- $\\beta_2$ : 0.999\n",
        "\n",
        "- $\\epsilon$ : 크게 상관은 없음, 저자는 $10^{-8}$을 추천"
      ]
    },
    {
      "cell_type": "markdown",
      "metadata": {
        "id": "gdLqW71rObpy"
      },
      "source": [
        "Adam = Adapive moment estimation에서 온 용어입니다."
      ]
    }
  ]
}