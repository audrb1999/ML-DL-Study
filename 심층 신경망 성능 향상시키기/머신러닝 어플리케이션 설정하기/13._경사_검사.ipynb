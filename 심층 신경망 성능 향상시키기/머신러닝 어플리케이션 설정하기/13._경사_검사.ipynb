{
  "nbformat": 4,
  "nbformat_minor": 0,
  "metadata": {
    "colab": {
      "name": "13.경사 검사.ipynb",
      "provenance": [],
      "collapsed_sections": [],
      "authorship_tag": "ABX9TyNRdt76OqPA1u8putlvkK96",
      "include_colab_link": true
    },
    "kernelspec": {
      "name": "python3",
      "display_name": "Python 3"
    },
    "language_info": {
      "name": "python"
    }
  },
  "cells": [
    {
      "cell_type": "markdown",
      "metadata": {
        "id": "view-in-github",
        "colab_type": "text"
      },
      "source": [
        "<a href=\"https://colab.research.google.com/github/audrb1999/ML-DL-Study/blob/main/%EC%8B%AC%EC%B8%B5%20%EC%8B%A0%EA%B2%BD%EB%A7%9D%20%EC%84%B1%EB%8A%A5%20%ED%96%A5%EC%83%81%EC%8B%9C%ED%82%A4%EA%B8%B0/%EB%A8%B8%EC%8B%A0%EB%9F%AC%EB%8B%9D%20%EC%96%B4%ED%94%8C%EB%A6%AC%EC%BC%80%EC%9D%B4%EC%85%98%20%EC%84%A4%EC%A0%95%ED%95%98%EA%B8%B0/13._%EA%B2%BD%EC%82%AC_%EA%B2%80%EC%82%AC.ipynb\" target=\"_parent\"><img src=\"https://colab.research.google.com/assets/colab-badge.svg\" alt=\"Open In Colab\"/></a>"
      ]
    },
    {
      "cell_type": "markdown",
      "metadata": {
        "id": "laRkKiLt57Jo"
      },
      "source": [
        "#경사 검사\n",
        "\n",
        "- 역전파의 구현에 대한 버그를 찾는데 도움을 많이 줌"
      ]
    },
    {
      "cell_type": "markdown",
      "metadata": {
        "id": "Z0_lbEAf57HA"
      },
      "source": [
        "신경망의 매개변수가 $W^{[1]}, b^{[1]}, ... W^{[L]}, b^{[L]}$까지 있다고 한다면 경사 검사를 위해서는 이 매개변수들을 하나의 큰 벡터 θ 바꿔야 합니다.\n",
        "\n",
        "- 모든 매개변수들을 reshape해서 벡터로 바꾸고 모두 연결시킵니다.\n",
        "\n",
        "그 결과 매우 큰 벡터 매개변수 θ를 얻게 되는데 이것으로 비용함수를 구합니다.\n",
        "\n",
        "그 다음 이전에서 했던것과 같이 기울기를 구합니다 =  dθ\n",
        "\n",
        "> dθ는 θ와 같은 차원을 가지고 있습니다.\n"
      ]
    },
    {
      "cell_type": "markdown",
      "metadata": {
        "id": "uA5cuMWs57Eo"
      },
      "source": [
        "경사 검사를 구현하기 위해 반복문을 구현합니다.\n",
        "\n",
        "각 요소 θ에 대해서 중앙 차분으로 approxmatly(대강, 근사를 의미)를 구해봅시다.\n",
        "\n",
        "- $$d\\theta_{apporx}^{[i]} = \\frac{J(\\theta 1, \\theta 2, .., \\theta I+\\epsilon) - J(\\theta1, \\theta2, .., \\theta I-\\epsilon)} {2\\epsilon}$$ \n",
        "\n",
        "세타 I에만 중앙 차분 적용 이것을 \n",
        "\n",
        "- $$d\\theta[i] =  \\frac{\\partial J} {\\partial \\theta}$$ \n",
        "\n",
        "이 두 벡터가 가까운지를 알아내야함\n"
      ]
    },
    {
      "cell_type": "markdown",
      "metadata": {
        "id": "or6gg4f757CQ"
      },
      "source": [
        "## 유클리드 거리"
      ]
    },
    {
      "cell_type": "markdown",
      "metadata": {
        "id": "ckJF-6bs56_w"
      },
      "source": [
        "이 두 벡터의 유클리드 거리를 계산해야함"
      ]
    },
    {
      "cell_type": "markdown",
      "metadata": {
        "id": "1FXh9n1cPi1J"
      },
      "source": [
        "$d\\theta_{apporx} - d\\theta$의 L2 노름을 구합니다.\n",
        "\n",
        "$||d\\theta_{apporx} - d\\theta||_2$\n",
        "\n",
        "> 유클리드 거리를 얻기 위해서는 이 원소의 차이를 제곱한 것의 합의 제곱근을 구해야합니다.\n",
        "\n",
        "그리고 벡터의 길이로 정규화하기 위해 두 값의 합으로 나눠줍니다.\n",
        "\n",
        "- 이 벡터가 아주 작거나 큰 경우에 대비해 비율로 바꾸는 것\n",
        "\n",
        "\n",
        "$$\\frac{||d\\theta_{apporx} - d\\theta||_2}{||d\\theta_{apporx}||_2 + ||d\\theta||_2}$$"
      ]
    },
    {
      "cell_type": "markdown",
      "metadata": {
        "id": "ZhhhYEPOPizJ"
      },
      "source": [
        "앤드류 교수님은 ε를  $10^{-7}$로 자주 사용하심\n",
        "\n",
        "이 범위의 ε에서 저 수식은 $10^{-7}$나 그보다 작게 나옴\n",
        "\n",
        "그러면 근사가 제대로 됬다는 의미!\n",
        "\n",
        "만약 값이 좀 크게 나왔다면 $10^{-5}$ 정도 그럼 벡터의 원소간의 차이를 확인 해주어야함!\n",
        "\n",
        "원소의 차이가 너무 크다면 버그가 생김!\n"
      ]
    },
    {
      "cell_type": "markdown",
      "metadata": {
        "id": "9Lmpbz8uPixJ"
      },
      "source": [
        "\n",
        "만약 $10^{-3}$ 같은 매우 큰 오차가 나왔다면 θ의 개별적인 원소 중 특정 I(순서)에 대해 $d\\theta_{apporx}$ 와 $d\\theta$ 차이가 심한 값을 추적해서 미분 계산이 제대로 되어있는지 확인해야합니다."
      ]
    }
  ]
}