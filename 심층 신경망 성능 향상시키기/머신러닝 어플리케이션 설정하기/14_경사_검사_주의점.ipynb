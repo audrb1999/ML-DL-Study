{
  "nbformat": 4,
  "nbformat_minor": 0,
  "metadata": {
    "colab": {
      "name": "14.경사 검사 주의점.ipynb",
      "provenance": [],
      "collapsed_sections": [],
      "authorship_tag": "ABX9TyNkMkiBNZnZwYLcg1MtjnIS",
      "include_colab_link": true
    },
    "kernelspec": {
      "name": "python3",
      "display_name": "Python 3"
    },
    "language_info": {
      "name": "python"
    }
  },
  "cells": [
    {
      "cell_type": "markdown",
      "metadata": {
        "id": "view-in-github",
        "colab_type": "text"
      },
      "source": [
        "<a href=\"https://colab.research.google.com/github/audrb1999/ML-DL-Study/blob/main/%EC%8B%AC%EC%B8%B5%20%EC%8B%A0%EA%B2%BD%EB%A7%9D%20%EC%84%B1%EB%8A%A5%20%ED%96%A5%EC%83%81%EC%8B%9C%ED%82%A4%EA%B8%B0/%EB%A8%B8%EC%8B%A0%EB%9F%AC%EB%8B%9D%20%EC%96%B4%ED%94%8C%EB%A6%AC%EC%BC%80%EC%9D%B4%EC%85%98%20%EC%84%A4%EC%A0%95%ED%95%98%EA%B8%B0/14_%EA%B2%BD%EC%82%AC_%EA%B2%80%EC%82%AC_%EC%A3%BC%EC%9D%98%EC%A0%90.ipynb\" target=\"_parent\"><img src=\"https://colab.research.google.com/assets/colab-badge.svg\" alt=\"Open In Colab\"/></a>"
      ]
    },
    {
      "cell_type": "markdown",
      "metadata": {
        "id": "h6RwK39QKkzJ"
      },
      "source": [
        "# 경사 검사 시 주의할 점\n",
        "성분(component)"
      ]
    },
    {
      "cell_type": "markdown",
      "metadata": {
        "id": "2d1-ZDSjKkwx"
      },
      "source": [
        "신경망에서 경사 검사를 구현하기 위한 실질적인 방법!\n",
        "\n",
        "1. 훈련에서 경사 검사를 사용하지 말고 디버깅을 위해서만 사용하세요! (Dev, test에서만) > 안 그러면 너무 느려짐!\n",
        "   - 디버깅할 때만 진행하여 $d\\theta$근사, $d\\theta$ 끼리 가까워지게 합니다.\n",
        "   - 과정이 끝나면 gredient check를 끕니다.\n",
        "\n",
        "2. 만약 경사 검사가 실패한다면(값이 너무 크다면)\n",
        "   - $\\theta$의 개별 원소 차이를 확인합니다.\n",
        "   - $\\theta$나 $d\\theta$의 값이 대응되는 $db^{[l]}$와는 멀지만 대응되는 $dw^{l}$과는 매우 가까울 때 서로 다른 component는 b나 w의 컴포넌트에 대응됩니다. db를 어떻게 계산하느냐에 따라 버그가 발생.\n",
        "\n",
        "3. 정규화\n",
        "   \n",
        "   - $J(\\theta$)$에 정규화 항을 포함합니다.\n",
        "\n",
        "4. 경사 검사에 드롭아웃을 사용하지마라\n",
        "  - 드롭아웃은 경사 하강법을 어렵게 만들기에 경사 검사도 힘들어진다.\n",
        "  - 매번 다른 부분집합의 노드를 무작위로 삭제하기에 > keep_prob = 1.0으로 가져가라.\n",
        "\n",
        "5. 무작위 초기화에서 w와 b가 0에 가까워지게 배치될 때\n",
        "\n"
      ]
    }
  ]
}