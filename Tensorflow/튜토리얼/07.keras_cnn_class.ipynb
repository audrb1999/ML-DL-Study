{
  "nbformat": 4,
  "nbformat_minor": 0,
  "metadata": {
    "colab": {
      "name": "기초 신경망.ipynb",
      "provenance": [],
      "collapsed_sections": [],
      "include_colab_link": true
    },
    "kernelspec": {
      "name": "python3",
      "display_name": "Python 3"
    }
  },
  "cells": [
    {
      "cell_type": "markdown",
      "metadata": {
        "id": "view-in-github",
        "colab_type": "text"
      },
      "source": [
        "<a href=\"https://colab.research.google.com/github/audrb1999/ML-DL-Study/blob/main/Tensorflow/%ED%8A%9C%ED%86%A0%EB%A6%AC%EC%96%BC/07.keras_cnn_class.ipynb\" target=\"_parent\"><img src=\"https://colab.research.google.com/assets/colab-badge.svg\" alt=\"Open In Colab\"/></a>"
      ]
    },
    {
      "cell_type": "markdown",
      "metadata": {
        "id": "6ohx0Bn5Hg33"
      },
      "source": [
        "# 필요한 라이브러리들"
      ]
    },
    {
      "cell_type": "code",
      "metadata": {
        "id": "e7kl3hgkikbo"
      },
      "source": [
        "import tensorflow as tf\n",
        "import pandas as pd\n",
        "import numpy as np\n",
        "import matplotlib.pyplot as plt\n",
        "import warnings \n",
        "\n",
        "from tensorflow.keras.layers import Activation\n",
        "from keras.models import Sequential\n",
        "from keras.layers import Dense, Conv2D, Flatten, MaxPooling2D\n",
        "from tensorflow import keras\n",
        "\n",
        "warnings.filterwarnings('ignore')\n",
        "%matplotlib inline\n",
        "\n",
        "# plt show안해도 보여줌\n",
        "\n",
        "SEED = 34"
      ],
      "execution_count": null,
      "outputs": []
    },
    {
      "cell_type": "code",
      "metadata": {
        "id": "l2NW5G5nTgsb"
      },
      "source": [
        "(train_images, train_labels), (test_images, test_labels) = keras.datasets.fashion_mnist.load_data()"
      ],
      "execution_count": null,
      "outputs": []
    },
    {
      "cell_type": "code",
      "metadata": {
        "id": "4kVFZWrQvCZm"
      },
      "source": [
        "class_names = ['T-shirt/top', 'Trouser', 'Pullover', 'Dress', 'Coat',\n",
        "               'Sandal', 'Shirt', 'Sneaker', 'Bag', 'Ankle boot']\n",
        "# 나중에 이미지를 출력할 때 사용하기 위한 별도의 변수"
      ],
      "execution_count": null,
      "outputs": []
    },
    {
      "cell_type": "code",
      "metadata": {
        "id": "waksbx9aT5tK",
        "colab": {
          "base_uri": "https://localhost:8080/"
        },
        "outputId": "27ea3d38-b7cc-4137-c0c8-dfa98863fdaa"
      },
      "source": [
        "print(train_images.shape)"
      ],
      "execution_count": null,
      "outputs": [
        {
          "output_type": "stream",
          "name": "stdout",
          "text": [
            "(60000, 28, 28)\n"
          ]
        }
      ]
    },
    {
      "cell_type": "code",
      "metadata": {
        "id": "fVzGHMSYUUKk",
        "colab": {
          "base_uri": "https://localhost:8080/",
          "height": 265
        },
        "outputId": "190d72cf-a7b2-4396-a6c6-d7b775e66377"
      },
      "source": [
        "plt.imshow(train_images[0])\n",
        "plt.colorbar() # 픽셀 값 범위를 알 수 있음\n",
        "plt.grid(True)\n",
        "plt.show()"
      ],
      "execution_count": null,
      "outputs": [
        {
          "output_type": "display_data",
          "data": {
            "image/png": "[encoded data removed]",
            "text/plain": [
              "<Figure size 432x288 with 2 Axes>"
            ]
          },
          "metadata": {
            "needs_background": "light"
          }
        }
      ]
    },
    {
      "cell_type": "code",
      "metadata": {
        "id": "nVc4kjgAVNl7",
        "colab": {
          "base_uri": "https://localhost:8080/"
        },
        "outputId": "8bd7ccc4-0df2-4976-b219-adc7a3b66fc4"
      },
      "source": [
        "train_images.dtype"
      ],
      "execution_count": null,
      "outputs": [
        {
          "output_type": "execute_result",
          "data": {
            "text/plain": [
              "dtype('uint8')"
            ]
          },
          "metadata": {},
          "execution_count": 7
        }
      ]
    },
    {
      "cell_type": "markdown",
      "metadata": {
        "id": "D-ow5xtnvxom"
      },
      "source": [
        "# 정규화\n"
      ]
    },
    {
      "cell_type": "code",
      "metadata": {
        "id": "Y88qmAVChg_Z"
      },
      "source": [
        "train_images = train_images.astype(np.float64)\n",
        "test_images = test_images.astype(np.float64)"
      ],
      "execution_count": null,
      "outputs": []
    },
    {
      "cell_type": "code",
      "metadata": {
        "colab": {
          "base_uri": "https://localhost:8080/"
        },
        "id": "hT_Y-uAggyoM",
        "outputId": "1a9eff0c-1179-48c5-f16a-bb7b676ca829"
      },
      "source": [
        "print(np.max(train_images[0]), np.min(train_images[0]))"
      ],
      "execution_count": null,
      "outputs": [
        {
          "output_type": "stream",
          "name": "stdout",
          "text": [
            "255.0 0.0\n"
          ]
        }
      ]
    },
    {
      "cell_type": "markdown",
      "metadata": {
        "id": "L0f__zuBfotM"
      },
      "source": [
        "\n",
        "\n",
        "일반적으로 0-1사의의 값을 가지게 하기 위해서는 다음 수식을 사용합니다.\n",
        "\n",
        "$$normalize(x) = \\frac{x - 최소값}{최대값 - 최소값}$$\n",
        "\n",
        "이 경우 최소값이 0이기 떄문에 다음과 같이 간편하게 구할 수 있습니다.\n",
        "\n",
        "$$normalize(x) = \\frac{x}{최대값}$$"
      ]
    },
    {
      "cell_type": "code",
      "metadata": {
        "id": "SV2A6JZBf7Ku"
      },
      "source": [
        "train_images = train_images/255.0\n",
        "test_images = test_images/255.0"
      ],
      "execution_count": null,
      "outputs": []
    },
    {
      "cell_type": "code",
      "metadata": {
        "id": "cLaqqwz4i_7D",
        "colab": {
          "base_uri": "https://localhost:8080/"
        },
        "outputId": "afcbeb52-75ce-4229-90ae-434a887028ce"
      },
      "source": [
        "train_5 = train_images[0:5]\n",
        "train_5.shape"
      ],
      "execution_count": null,
      "outputs": [
        {
          "output_type": "execute_result",
          "data": {
            "text/plain": [
              "(5, 28, 28)"
            ]
          },
          "metadata": {},
          "execution_count": 11
        }
      ]
    },
    {
      "cell_type": "code",
      "metadata": {
        "id": "bxRhMcaKk3Pa",
        "colab": {
          "base_uri": "https://localhost:8080/",
          "height": 118
        },
        "outputId": "02e8c5aa-0d90-4e11-d317-be816e12e8c4"
      },
      "source": [
        "# np.hstack은 height 방향의 배열을 풀어서 width 방향으로 연결해줍니다.\n",
        "\n",
        "a = np.hstack(train_5)\n",
        "plt.imshow(a)\n",
        "plt.show()"
      ],
      "execution_count": null,
      "outputs": [
        {
          "output_type": "display_data",
          "data": {
            "image/png": "[encoded data removed]",
            "text/plain": [
              "<Figure size 432x288 with 1 Axes>"
            ]
          },
          "metadata": {
            "needs_background": "light"
          }
        }
      ]
    },
    {
      "cell_type": "markdown",
      "metadata": {
        "id": "IhZP9GzZvzue"
      },
      "source": [
        "#Data augmentation"
      ]
    },
    {
      "cell_type": "code",
      "metadata": {
        "id": "c7292i2CMFCz"
      },
      "source": [
        "# Data augmentation\n",
        "# 가우시안 노이즈 함수를 이용 평균 0.5, 표준편차 0.1 사이즈 28, 28\n",
        "\n",
        "train_noisy_images = train_images +  np.random.normal(0.5, 0.1, (28, 28))\n",
        "train_noisy_images[train_noisy_images>1] = 1.0\n",
        "\n",
        "test_noisy_images = test_images + np.random.normal(0.5, 0.1, (28, 28))\n",
        "test_noisy_images[test_noisy_images > 1] = 1.0"
      ],
      "execution_count": null,
      "outputs": []
    },
    {
      "cell_type": "code",
      "metadata": {
        "id": "zGzd99EolQBo",
        "colab": {
          "base_uri": "https://localhost:8080/",
          "height": 257
        },
        "outputId": "1bcf666f-d8e6-4334-fe37-d978cce98ab6"
      },
      "source": [
        "plt.imshow(train_noisy_images[:5].transpose( (1, 0, 2) ).reshape(28, -1), cmap=\"gray\")\n",
        "plt.colorbar()\n",
        "plt.show()"
      ],
      "execution_count": null,
      "outputs": [
        {
          "output_type": "display_data",
          "data": {
            "image/png": "[encoded data removed]",
            "text/plain": [
              "<Figure size 432x288 with 2 Axes>"
            ]
          },
          "metadata": {
            "needs_background": "light"
          }
        }
      ]
    },
    {
      "cell_type": "code",
      "metadata": {
        "colab": {
          "base_uri": "https://localhost:8080/"
        },
        "id": "AbIQjfLYi_-i",
        "outputId": "f8a8283f-c86e-432b-c974-6cc97a20016b"
      },
      "source": [
        "print(test_labels)"
      ],
      "execution_count": null,
      "outputs": [
        {
          "output_type": "stream",
          "name": "stdout",
          "text": [
            "[9 2 1 ... 8 1 5]\n"
          ]
        }
      ]
    },
    {
      "cell_type": "code",
      "metadata": {
        "id": "S34frxLyxAD-",
        "colab": {
          "base_uri": "https://localhost:8080/"
        },
        "outputId": "960cce85-8fa2-4549-e6c4-8e191b03dabb"
      },
      "source": [
        "# utils에는 좋은 기능이 많음, 링크에서 파일 다운받기(get_file), 정규화 등\n",
        "from keras.utils.np_utils import to_categorical\n",
        "\n",
        "train_labels = to_categorical(train_labels, 10)# 원 핫 인코딩으로 바꿔줌\n",
        "test_labels = to_categorical(test_labels, 10)\n",
        "\n",
        "print(train_labels.shape)"
      ],
      "execution_count": null,
      "outputs": [
        {
          "output_type": "stream",
          "name": "stdout",
          "text": [
            "(60000, 10)\n"
          ]
        }
      ]
    },
    {
      "cell_type": "markdown",
      "metadata": {
        "id": "I-Az1lqPvtYl"
      },
      "source": [
        "# 모델링"
      ]
    },
    {
      "cell_type": "code",
      "metadata": {
        "id": "LmUnr5UwKx2-"
      },
      "source": [
        "# 함수형 Api\n",
        "\n",
        "from keras.models import Model\n",
        "\n",
        "input = keras.layers.Input(shape=(28, 28, 1))# HWC\n",
        "x1 = Conv2D(32, (3, 3), activation= 'relu')(input)# 32는 출력 갯수\n",
        "x2 = MaxPooling2D((2, 2))(x1)\n",
        "x3 = Conv2D(64, (3, 3), activation= 'relu')(x2)\n",
        "x4 = Flatten()(x3)\n",
        "x5 = Dense(64, activation='relu')(x4)\n",
        "x6 = Dense(10, activation='softmax')(x5)\n",
        "\n",
        "model = Model(input, x6)"
      ],
      "execution_count": null,
      "outputs": []
    },
    {
      "cell_type": "code",
      "metadata": {
        "id": "d4qnTxHpyN37",
        "colab": {
          "base_uri": "https://localhost:8080/"
        },
        "outputId": "289794b9-1896-498d-e736-9b0a1f021b68"
      },
      "source": [
        "model.summary()\n",
        "\n",
        "# sequential model 은 인풋이 없다."
      ],
      "execution_count": null,
      "outputs": [
        {
          "output_type": "stream",
          "name": "stdout",
          "text": [
            "Model: \"model_2\"\n",
            "_________________________________________________________________\n",
            "Layer (type)                 Output Shape              Param #   \n",
            "=================================================================\n",
            "input_10 (InputLayer)        [(None, 28, 28, 1)]       0         \n",
            "_________________________________________________________________\n",
            "conv2d_18 (Conv2D)           (None, 26, 26, 32)        320       \n",
            "_________________________________________________________________\n",
            "max_pooling2d_10 (MaxPooling (None, 13, 13, 32)        0         \n",
            "_________________________________________________________________\n",
            "conv2d_19 (Conv2D)           (None, 11, 11, 64)        18496     \n",
            "_________________________________________________________________\n",
            "flatten_2 (Flatten)          (None, 7744)              0         \n",
            "_________________________________________________________________\n",
            "dense_4 (Dense)              (None, 64)                495680    \n",
            "_________________________________________________________________\n",
            "dense_5 (Dense)              (None, 10)                650       \n",
            "=================================================================\n",
            "Total params: 515,146\n",
            "Trainable params: 515,146\n",
            "Non-trainable params: 0\n",
            "_________________________________________________________________\n"
          ]
        }
      ]
    },
    {
      "cell_type": "code",
      "metadata": {
        "colab": {
          "base_uri": "https://localhost:8080/",
          "height": 661
        },
        "id": "Wg9jiov6VVB-",
        "outputId": "b164692f-dd6a-4a4b-faf5-e9b971a198b8"
      },
      "source": [
        "keras.utils.plot_model(model, \"my_first_model.png\")"
      ],
      "execution_count": null,
      "outputs": [
        {
          "output_type": "execute_result",
          "data": {
            "image/png": "[encoded data removed]",
            "text/plain": [
              "<IPython.core.display.Image object>"
            ]
          },
          "metadata": {},
          "execution_count": 3
        }
      ]
    },
    {
      "cell_type": "code",
      "metadata": {
        "id": "rtERwtZ8p5xK"
      },
      "source": [
        "# Sequential을 사용해서\n",
        "\n",
        "model2 = keras.Sequential([\n",
        "                           Conv2D(32, (3, 3), activation= 'relu', input_shape=(28, 28, 1)),\n",
        "                           MaxPooling2D((2, 2)),\n",
        "                           Conv2D(64, (3, 3), activation= 'relu'),\n",
        "                           Flatten(),\n",
        "                           Dense(64, activation='relu'),\n",
        "                           Dense(10, activation='softmax')\n",
        "\n",
        "])"
      ],
      "execution_count": null,
      "outputs": []
    },
    {
      "cell_type": "code",
      "metadata": {
        "colab": {
          "base_uri": "https://localhost:8080/"
        },
        "id": "0ks9dHmfqLxq",
        "outputId": "c53dad6f-a7b9-4ba5-e487-78d48a0c04f6"
      },
      "source": [
        "model2.summary()"
      ],
      "execution_count": null,
      "outputs": [
        {
          "output_type": "stream",
          "name": "stdout",
          "text": [
            "Model: \"sequential_2\"\n",
            "_________________________________________________________________\n",
            "Layer (type)                 Output Shape              Param #   \n",
            "=================================================================\n",
            "conv2d_24 (Conv2D)           (None, 26, 26, 32)        320       \n",
            "_________________________________________________________________\n",
            "max_pooling2d_13 (MaxPooling (None, 13, 13, 32)        0         \n",
            "_________________________________________________________________\n",
            "conv2d_25 (Conv2D)           (None, 11, 11, 64)        18496     \n",
            "_________________________________________________________________\n",
            "flatten_5 (Flatten)          (None, 7744)              0         \n",
            "_________________________________________________________________\n",
            "dense_10 (Dense)             (None, 64)                495680    \n",
            "_________________________________________________________________\n",
            "dense_11 (Dense)             (None, 10)                650       \n",
            "=================================================================\n",
            "Total params: 515,146\n",
            "Trainable params: 515,146\n",
            "Non-trainable params: 0\n",
            "_________________________________________________________________\n"
          ]
        }
      ]
    },
    {
      "cell_type": "code",
      "metadata": {
        "id": "nufi0CMyazsF"
      },
      "source": [
        "model.compile(loss = 'categorical_crossentropy', optimizer= 'adam', metrics= 'accuracy')"
      ],
      "execution_count": null,
      "outputs": []
    },
    {
      "cell_type": "code",
      "metadata": {
        "colab": {
          "base_uri": "https://localhost:8080/"
        },
        "id": "DG3c1i4CHPiV",
        "outputId": "690ff466-2a45-4c49-9203-d4380b7a4948"
      },
      "source": [
        "hist = model.fit(train_noisy_images, train_labels, validation_data=(test_noisy_images, test_labels), epochs=5, verbose=2)\n",
        "# hist로 값을 받으면 그래프 그리기가 편함\n",
        "# 인풋 레이어가 있냐 없냐 차이로 정확도 차이가 남 있으면 잘 됨"
      ],
      "execution_count": null,
      "outputs": [
        {
          "output_type": "stream",
          "name": "stdout",
          "text": [
            "Epoch 1/5\n",
            "1875/1875 - 5s - loss: 0.5118 - accuracy: 0.8142 - val_loss: 0.4434 - val_accuracy: 0.8299\n",
            "Epoch 2/5\n",
            "1875/1875 - 5s - loss: 0.3444 - accuracy: 0.8751 - val_loss: 0.3946 - val_accuracy: 0.8519\n",
            "Epoch 3/5\n",
            "1875/1875 - 5s - loss: 0.2986 - accuracy: 0.8887 - val_loss: 0.3756 - val_accuracy: 0.8566\n",
            "Epoch 4/5\n",
            "1875/1875 - 5s - loss: 0.2700 - accuracy: 0.8982 - val_loss: 0.3694 - val_accuracy: 0.8613\n",
            "Epoch 5/5\n",
            "1875/1875 - 4s - loss: 0.2458 - accuracy: 0.9081 - val_loss: 0.3590 - val_accuracy: 0.8662\n"
          ]
        }
      ]
    },
    {
      "cell_type": "code",
      "metadata": {
        "colab": {
          "base_uri": "https://localhost:8080/"
        },
        "id": "n7XPKoa4tXKw",
        "outputId": "e0fcef58-ea48-4551-ceba-f0aca06c58bf"
      },
      "source": [
        "# 딕셔너리 형태로 진행 사항이 저장됨\n",
        "hist.history"
      ],
      "execution_count": null,
      "outputs": [
        {
          "output_type": "execute_result",
          "data": {
            "text/plain": [
              "{'accuracy': [0.8142333626747131,\n",
              "  0.8751166462898254,\n",
              "  0.8886500000953674,\n",
              "  0.8981666564941406,\n",
              "  0.9080833196640015],\n",
              " 'loss': [0.5118066072463989,\n",
              "  0.34437665343284607,\n",
              "  0.29864901304244995,\n",
              "  0.26998576521873474,\n",
              "  0.24579066038131714],\n",
              " 'val_accuracy': [0.8299000263214111,\n",
              "  0.8518999814987183,\n",
              "  0.8565999865531921,\n",
              "  0.861299991607666,\n",
              "  0.8661999702453613],\n",
              " 'val_loss': [0.4433618187904358,\n",
              "  0.39461225271224976,\n",
              "  0.37555575370788574,\n",
              "  0.3693578839302063,\n",
              "  0.35903871059417725]}"
            ]
          },
          "metadata": {},
          "execution_count": 55
        }
      ]
    },
    {
      "cell_type": "code",
      "metadata": {
        "id": "B6pKz5o3bPIT",
        "colab": {
          "base_uri": "https://localhost:8080/",
          "height": 265
        },
        "outputId": "ceab10fc-16c8-4387-e64e-85017b0c225b"
      },
      "source": [
        "plt.plot(hist.history['accuracy'], label = 'acc')\n",
        "plt.plot(hist.history['loss'], label = 'loss')\n",
        "plt.plot(hist.history['val_accuracy'], label = 'val_acc')\n",
        "plt.plot(hist.history['val_loss'], label = 'val_loss')\n",
        "\n",
        "plt.legend(loc = 'under letf')\n",
        "\n",
        "plt.show()"
      ],
      "execution_count": null,
      "outputs": [
        {
          "output_type": "display_data",
          "data": {
            "image/png": "[encoded data removed]",
            "text/plain": [
              "<Figure size 432x288 with 1 Axes>"
            ]
          },
          "metadata": {
            "needs_background": "light"
          }
        }
      ]
    },
    {
      "cell_type": "code",
      "metadata": {
        "id": "uKFAu5z4QRjR",
        "colab": {
          "base_uri": "https://localhost:8080/"
        },
        "outputId": "59e71054-927d-453c-fdff-f68bf24c34fd"
      },
      "source": [
        "res = model.predict(test_images[0].reshape(1, 28, 28))\n",
        "\n",
        "np.argmax(res)\n",
        "# 테스트 이미지 인식"
      ],
      "execution_count": null,
      "outputs": [
        {
          "output_type": "execute_result",
          "data": {
            "text/plain": [
              "9"
            ]
          },
          "metadata": {},
          "execution_count": 57
        }
      ]
    },
    {
      "cell_type": "code",
      "metadata": {
        "id": "L0t-FO9qRfoK",
        "colab": {
          "base_uri": "https://localhost:8080/",
          "height": 299
        },
        "outputId": "dce90e65-822f-4d98-fbd1-a0d3a73ba037"
      },
      "source": [
        "plt.imshow(test_images[0])\n",
        "plt.title(class_names[9])\n",
        "\n",
        "print(test_labels[0])# 9 번째\n"
      ],
      "execution_count": null,
      "outputs": [
        {
          "output_type": "stream",
          "name": "stdout",
          "text": [
            "[0. 0. 0. 0. 0. 0. 0. 0. 0. 1.]\n"
          ]
        },
        {
          "output_type": "display_data",
          "data": {
            "image/png": "[encoded data removed]",
            "text/plain": [
              "<Figure size 432x288 with 1 Axes>"
            ]
          },
          "metadata": {
            "needs_background": "light"
          }
        }
      ]
    },
    {
      "cell_type": "code",
      "metadata": {
        "colab": {
          "base_uri": "https://localhost:8080/"
        },
        "id": "1JbKEuALgnxs",
        "outputId": "5242fb7a-4eff-49b7-aaa9-2105bcca7ea8"
      },
      "source": [
        "# 모델 저장\n",
        "!mkdir -p saved_model\n",
        "model.save('saved_model/my_model')"
      ],
      "execution_count": null,
      "outputs": [
        {
          "output_type": "stream",
          "name": "stdout",
          "text": [
            "INFO:tensorflow:Assets written to: saved_model/my_model/assets\n"
          ]
        }
      ]
    },
    {
      "cell_type": "markdown",
      "metadata": {
        "id": "VVw8SXVTy1qU"
      },
      "source": [
        "![image.png](data:image/png;base64,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)"
      ]
    },
    {
      "cell_type": "markdown",
      "metadata": {
        "id": "QG9Uw4SMwOBd"
      },
      "source": [
        "## keras에 존재하는 전처리와 data augmentation"
      ]
    },
    {
      "cell_type": "code",
      "metadata": {
        "id": "FmLKuJtLwOT7"
      },
      "source": [
        "resize_and_rescale  = keras.Sequential([\n",
        "  keras.layers.experimental.preprocessing.Resizing(IMG_SIZE, IMG_SIZE), # 크기 조정\n",
        "  keras.layers.experimental.preprocessing.Rescaling(1./255) # 픽셀 배율 조정\n",
        "])\n",
        "\n",
        "resize_and_rescale('원하는 이미지를 넣으면 크기, 픽셀 배율이 조정됨')"
      ],
      "execution_count": null,
      "outputs": []
    },
    {
      "cell_type": "code",
      "metadata": {
        "id": "czR3DH6bwg12"
      },
      "source": [
        "data_augmentation = tf.keras.Sequential([\n",
        "  keras.layers.experimental.preprocessing.RandomFlip(\"horizontal_and_vertical\"),\n",
        "  keras.layers.experimental.preprocessing.RandomRotation(0.2),\n",
        "])\n",
        "\n",
        "data_augmentation('위와 마찬가지')"
      ],
      "execution_count": null,
      "outputs": []
    },
    {
      "cell_type": "markdown",
      "metadata": {
        "id": "GVqgaQXow9dt"
      },
      "source": [
        "- 사용 방법"
      ]
    },
    {
      "cell_type": "code",
      "metadata": {
        "id": "PehSTI9dw00v"
      },
      "source": [
        "\n",
        "model3 = tf.keras.Sequential([\n",
        "  resize_and_rescale,\n",
        "  data_augmentation,\n",
        "  layers.Conv2D(16, 3, padding='same', activation='relu'),\n",
        "  layers.MaxPooling2D(),\n",
        "])\n",
        "\n"
      ],
      "execution_count": null,
      "outputs": []
    },
    {
      "cell_type": "code",
      "metadata": {
        "id": "BzZ_rYndHwEc"
      },
      "source": [
        "# 또는\n",
        "from tensorflow.keras.preprocessing.image import ImageDataGenerator\n",
        "datagen = ImageDataGenerator(rotation_range = 10, horizontal_flip = True, zoom_range = 0.1)\n",
        "\n",
        "# 다음과 같이 data augmentation을 실행"
      ],
      "execution_count": null,
      "outputs": []
    },
    {
      "cell_type": "markdown",
      "metadata": {
        "id": "WFRYFZRMxdmM"
      },
      "source": [
        "- 케라스를 사용하면서 사용해본적이 없는 기능\n",
        "- 직접 함수로 만들어서 사용한 경우가 많은거 같음\n",
        "\n",
        "자세한 내용은\n",
        "\n",
        "https://www.tensorflow.org/tutorials/images/data_augmentation?hl=ko"
      ]
    },
    {
      "cell_type": "markdown",
      "metadata": {
        "id": "0pvcIvdTy9oM"
      },
      "source": [
        "# 다른 방법"
      ]
    },
    {
      "cell_type": "code",
      "metadata": {
        "colab": {
          "base_uri": "https://localhost:8080/"
        },
        "id": "MAIB57V30LG7",
        "outputId": "c3eccc47-6573-4033-8922-a8dd6301a67a"
      },
      "source": [
        "type(train_noisy_images)\n",
        "# 이전 방법에서는 넘파이 데이터를 사용했는데 이번에는 텐서로 바꿔서 사용해보자"
      ],
      "execution_count": null,
      "outputs": [
        {
          "output_type": "execute_result",
          "data": {
            "text/plain": [
              "numpy.ndarray"
            ]
          },
          "metadata": {},
          "execution_count": 105
        }
      ]
    },
    {
      "cell_type": "markdown",
      "metadata": {
        "id": "E9Xu13ejAJsA"
      },
      "source": [
        "## fashion mnist"
      ]
    },
    {
      "cell_type": "code",
      "metadata": {
        "id": "4nORESw2_LFr"
      },
      "source": [
        "train_images, test_images = train_images/255.0, test_images/255.0\n",
        "\n",
        "x_train = train_images[..., tf.newaxis].astype('float32') #  Conv2D에서 인풋 사이즈 (28, 28, 1)로 설정하면 안해도 됨\n",
        "x_test = test_images[..., tf.newaxis].astype('float32') # float64일 때는 안됬음\n"
      ],
      "execution_count": null,
      "outputs": []
    },
    {
      "cell_type": "code",
      "metadata": {
        "colab": {
          "base_uri": "https://localhost:8080/"
        },
        "id": "zwV8dO8VAbvu",
        "outputId": "1288b2dc-2f6e-4053-dcb1-92cf047fec57"
      },
      "source": [
        "print(np.max(train_images[0]))"
      ],
      "execution_count": null,
      "outputs": [
        {
          "output_type": "stream",
          "name": "stdout",
          "text": [
            "1.0\n"
          ]
        }
      ]
    },
    {
      "cell_type": "markdown",
      "metadata": {
        "id": "L0khMglnAQVh"
      },
      "source": [
        "# 데이터 셋 만들기"
      ]
    },
    {
      "cell_type": "code",
      "metadata": {
        "id": "ZwiqXnhh7jyt"
      },
      "source": [
        "import tensorflow as tf\n",
        "\n",
        "from tensorflow.keras.layers import Dense, Flatten, Conv2D\n",
        "from tensorflow.keras import Model"
      ],
      "execution_count": null,
      "outputs": []
    },
    {
      "cell_type": "code",
      "metadata": {
        "id": "Dmab4oufzJ3D"
      },
      "source": [
        "# 이전 데이터를 tf.data를 사용해서 섞고 배치를 만듭니다.\n",
        "train_ds = tf.data.Dataset.from_tensor_slices(\n",
        "    (x_train, train_labels)).shuffle(10000).batch(32)# 10000 단위로 셔플\n",
        "\n",
        "test_ds = tf.data.Dataset.from_tensor_slices((x_test, test_labels)).batch(32)"
      ],
      "execution_count": null,
      "outputs": []
    },
    {
      "cell_type": "code",
      "metadata": {
        "colab": {
          "base_uri": "https://localhost:8080/"
        },
        "id": "wXAwmWkV1U0A",
        "outputId": "e5da1f91-3c44-4522-febd-9d31e4f8ce0e"
      },
      "source": [
        "print(type(test_ds))"
      ],
      "execution_count": null,
      "outputs": [
        {
          "output_type": "stream",
          "name": "stdout",
          "text": [
            "<class 'tensorflow.python.data.ops.dataset_ops.BatchDataset'>\n"
          ]
        }
      ]
    },
    {
      "cell_type": "markdown",
      "metadata": {
        "id": "scBr-J2xEK1H"
      },
      "source": [
        "# 모델링"
      ]
    },
    {
      "cell_type": "markdown",
      "metadata": {
        "id": "a0YJGVIJ17dp"
      },
      "source": [
        "케라스(Keras)의 모델 서브클래싱(subclassing) API를 사용하여 tf.keras 모델을 만듭니다:"
      ]
    },
    {
      "cell_type": "code",
      "metadata": {
        "colab": {
          "base_uri": "https://localhost:8080/"
        },
        "id": "5yAdijMJ1tvX",
        "outputId": "16f808af-4cda-4e07-c720-bc666957e720"
      },
      "source": [
        "class MyModel(Model):\n",
        "  def __init__(self):\n",
        "    super(MyModel, self).__init__()\n",
        "    self.conv1 = Conv2D(32, (3, 3), activation='relu')\n",
        "    self.max = MaxPooling2D((2, 2))\n",
        "    self.conv2 = Conv2D(64, (3, 3), activation= 'relu')\n",
        "    self.flatten = Flatten()\n",
        "    self.d1 = Dense(64, activation='relu')\n",
        "    self.d2 = Dense(10, activation= 'softmax')\n",
        "\n",
        "  def call(self, x):\n",
        "    x = self.conv1(x)\n",
        "    x = self.max(x)\n",
        "    x = self.conv2(x)\n",
        "    x = self.flatten(x)\n",
        "    x = self.d1(x)\n",
        "    return self.d2(x)\n",
        "\n",
        "# Create an instance of the model\n",
        "model = MyModel()\n",
        "model.build(input_shape=(None, 28, 28, 1))\n",
        "model.summary()"
      ],
      "execution_count": null,
      "outputs": [
        {
          "output_type": "stream",
          "name": "stdout",
          "text": [
            "Model: \"my_model_13\"\n",
            "_________________________________________________________________\n",
            "Layer (type)                 Output Shape              Param #   \n",
            "=================================================================\n",
            "conv2d_34 (Conv2D)           multiple                  320       \n",
            "_________________________________________________________________\n",
            "max_pooling2d_16 (MaxPooling multiple                  0         \n",
            "_________________________________________________________________\n",
            "conv2d_35 (Conv2D)           multiple                  18496     \n",
            "_________________________________________________________________\n",
            "flatten_12 (Flatten)         multiple                  0         \n",
            "_________________________________________________________________\n",
            "dense_24 (Dense)             multiple                  495680    \n",
            "_________________________________________________________________\n",
            "dense_25 (Dense)             multiple                  650       \n",
            "=================================================================\n",
            "Total params: 515,146\n",
            "Trainable params: 515,146\n",
            "Non-trainable params: 0\n",
            "_________________________________________________________________\n"
          ]
        }
      ]
    },
    {
      "cell_type": "markdown",
      "metadata": {
        "id": "SU8vZJpG2CMB"
      },
      "source": [
        "훈련에 필요한 옵티마이저(optimizer)와 손실 함수를 선택합니다:"
      ]
    },
    {
      "cell_type": "code",
      "metadata": {
        "id": "FOjQ1Mhh2Cgf"
      },
      "source": [
        "loss_object = tf.keras.losses.SparseCategoricalCrossentropy(from_logits=True)# 소프트 맥스를 지날 때 면 True\n",
        "#텐서플로우에서는 softmax 함수를 거칠 때, from_logits = True를 사용하는게 numerical stable하다고 설명하고 있습니다.\n",
        "\n",
        "optimizer = tf.keras.optimizers.Adam()"
      ],
      "execution_count": null,
      "outputs": []
    },
    {
      "cell_type": "markdown",
      "metadata": {
        "id": "nltdVe7g2GFK"
      },
      "source": [
        "모델의 손실과 성능을 측정할 지표를 선택합니다. 에포크가 진행되는 동안 수집된 측정 지표를 바탕으로 최종 결과를 출력합니다."
      ]
    },
    {
      "cell_type": "code",
      "metadata": {
        "id": "oJCY3N5e2EJY"
      },
      "source": [
        "train_loss = tf.keras.metrics.Mean(name='train_loss') # 평균을 내도록, 이름은 train_loss\n",
        "train_accuracy = tf.keras.metrics.SparseCategoricalAccuracy(name='train_accuracy')\n",
        "\n",
        "test_loss = tf.keras.metrics.Mean(name='test_loss')\n",
        "test_accuracy = tf.keras.metrics.SparseCategoricalAccuracy(name='test_accuracy')"
      ],
      "execution_count": null,
      "outputs": []
    },
    {
      "cell_type": "markdown",
      "metadata": {
        "id": "ILkSLVzP2rqJ"
      },
      "source": [
        "tf.GradientTape를 사용하여 모델을 훈련합니다:\n",
        "\n",
        "- 1.x 버전과 다르게 2.x 버전은 즉시 실행이 됩니다.\n",
        "\n",
        "- 즉시 실행은 편리하지만 성능과 전개성을 저하시킵니다.\n",
        "\n",
        "- 원래 처럼 그래프를 만들고 실행하는 define and run 형태로 사용 가능!"
      ]
    },
    {
      "cell_type": "code",
      "metadata": {
        "id": "5zPgszbL2r7X"
      },
      "source": [
        "@tf.function\n",
        "def train_step(images, labels):\n",
        "  with tf.GradientTape() as tape:\n",
        "    # training=True is only needed if there are layers with different\n",
        "    # behavior during training versus inference (e.g. Dropout).\n",
        "    predictions = model(images, training=True) # True면 드롭아웃 같은 것이 적용, 아니면 적용이 안됨\n",
        "    loss = loss_object(labels, predictions)# 손실계산\n",
        "  gradients = tape.gradient(loss, model.trainable_variables)# 기울기 계산, 자동 미분\n",
        "  optimizer.apply_gradients(zip(gradients, model.trainable_variables))# 가중치 업데이트\n",
        "\n",
        "  train_loss(loss)# 훈련할 때 보여주기 위한 지표\n",
        "  train_accuracy(labels, predictions)"
      ],
      "execution_count": null,
      "outputs": []
    },
    {
      "cell_type": "markdown",
      "metadata": {
        "id": "QZH3TYFI2vcp"
      },
      "source": [
        "이제 모델을 테스트합니다:"
      ]
    },
    {
      "cell_type": "code",
      "metadata": {
        "id": "2unTW0bj2tsP"
      },
      "source": [
        "@tf.function\n",
        "def test_step(images, labels):\n",
        "    \n",
        "  predictions = model(images, training=False)\n",
        "  t_loss = loss_object(labels, predictions)\n",
        "\n",
        "  test_loss(t_loss)\n",
        "  test_accuracy(labels, predictions)"
      ],
      "execution_count": null,
      "outputs": []
    },
    {
      "cell_type": "code",
      "metadata": {
        "colab": {
          "base_uri": "https://localhost:8080/"
        },
        "id": "YstUXeG-2wmP",
        "outputId": "e58717e3-b9fc-4ea3-fa12-b9f48af469f0"
      },
      "source": [
        "EPOCHS = 5\n",
        "\n",
        "for epoch in range(EPOCHS):\n",
        "  # Reset the metrics at the start of the next epoch\n",
        "  train_loss.reset_states()\n",
        "  train_accuracy.reset_states()\n",
        "  test_loss.reset_states()\n",
        "  test_accuracy.reset_states()\n",
        "\n",
        "  for images, labels in train_ds:\n",
        "    train_step(images, labels)\n",
        "\n",
        "  for test_images, test_labels in test_ds:\n",
        "    test_step(test_images, test_labels)\n",
        "\n",
        "  print(\n",
        "    f'Epoch {epoch + 1}, '\n",
        "    f'Loss: {train_loss.result()}, '\n",
        "    f'Accuracy: {train_accuracy.result() * 100}, '\n",
        "    f'Test Loss: {test_loss.result()}, '\n",
        "    f'Test Accuracy: {test_accuracy.result() * 100}'\n",
        "  )"
      ],
      "execution_count": null,
      "outputs": [
        {
          "output_type": "stream",
          "name": "stdout",
          "text": [
            "Epoch 1, Loss: 0.06306898593902588, Accuracy: 97.81999969482422, Test Loss: 0.5275934338569641, Test Accuracy: 87.55000305175781\n",
            "Epoch 2, Loss: 0.04184102267026901, Accuracy: 98.60166931152344, Test Loss: 0.601047158241272, Test Accuracy: 87.68000030517578\n",
            "Epoch 3, Loss: 0.026498090475797653, Accuracy: 99.14500427246094, Test Loss: 0.6510053873062134, Test Accuracy: 87.52999877929688\n",
            "Epoch 4, Loss: 0.018350854516029358, Accuracy: 99.43666076660156, Test Loss: 0.7491151094436646, Test Accuracy: 87.81999969482422\n",
            "Epoch 5, Loss: 0.013423419557511806, Accuracy: 99.59166717529297, Test Loss: 0.7812321186065674, Test Accuracy: 87.80999755859375\n"
          ]
        }
      ]
    },
    {
      "cell_type": "markdown",
      "metadata": {
        "id": "M5jmsuNuGEiE"
      },
      "source": [
        "기존 텐서플로우는 굉장히 복잡한 난이도를 가지고 있었고 진입 장벽이 매우 높았습니다. 그러한 문제를 해결하기 위해서 케라스가 개발되었습니다. 케라스는 매우 쉬운 문법으로 입문하기 좋지만 이미 구현된 기능만 사용할 수 있습니다. 새로운 방식을 만들어서 사용할려면 텐서플로를 사용하는 것이 좋습니다. \n",
        "\n"
      ]
    },
    {
      "cell_type": "markdown",
      "metadata": {
        "id": "RiMzuJF9G9H8"
      },
      "source": [
        "Tensorflow는\n",
        "\n",
        "- Threading이나 Queue 등의 메커니즘을 훨씬 디테일하게 사용할 수 있고 내부 구조를 확인할 수 있는 디버거를 사용할 수 있어 연구 개발을 할려면 Tensorflow를 사용하는 것이 더 좋다"
      ]
    }
  ]
}