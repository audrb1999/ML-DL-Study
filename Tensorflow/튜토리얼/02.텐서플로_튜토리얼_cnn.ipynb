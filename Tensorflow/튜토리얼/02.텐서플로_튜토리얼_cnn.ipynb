{
  "nbformat": 4,
  "nbformat_minor": 0,
  "metadata": {
    "colab": {
      "name": "02.텐서플로 튜토리얼 cnn.ipynb",
      "provenance": [],
      "collapsed_sections": [],
      "authorship_tag": "ABX9TyOTS4sojQtnVfqI90un28Wb",
      "include_colab_link": true
    },
    "kernelspec": {
      "name": "python3",
      "display_name": "Python 3"
    },
    "language_info": {
      "name": "python"
    },
    "accelerator": "GPU"
  },
  "cells": [
    {
      "cell_type": "markdown",
      "metadata": {
        "id": "view-in-github",
        "colab_type": "text"
      },
      "source": [
        "<a href=\"https://colab.research.google.com/github/audrb1999/ML-DL-Study/blob/main/Tensorflow/%ED%8A%9C%ED%86%A0%EB%A6%AC%EC%96%BC/02.%ED%85%90%EC%84%9C%ED%94%8C%EB%A1%9C_%ED%8A%9C%ED%86%A0%EB%A6%AC%EC%96%BC_cnn.ipynb\" target=\"_parent\"><img src=\"https://colab.research.google.com/assets/colab-badge.svg\" alt=\"Open In Colab\"/></a>"
      ]
    },
    {
      "cell_type": "markdown",
      "metadata": {
        "id": "RXwTraaBEekq"
      },
      "source": [
        "- 이전에 사용했던 기능은 mlp이긴 했지만 cnn이 아니였습니다. 여기서는 cnn을 사용하여 모델을 구축해봅시다."
      ]
    },
    {
      "cell_type": "code",
      "metadata": {
        "colab": {
          "base_uri": "https://localhost:8080/"
        },
        "id": "HCMyzMyWEcM4",
        "outputId": "97650e45-c28d-4e07-b547-10aa07ed2ffc"
      },
      "source": [
        "!pip install -q tensorflow-gpu==2.0.0-rc1\n",
        "import tensorflow as tf\n",
        "\n",
        "from tensorflow.keras.layers import Dense, Flatten, Conv2D # 완전연결 계층 + 1차원화 + 합성곱\n",
        "from tensorflow.keras import Model # 층을 설계하기 위한 모델을 불러옴"
      ],
      "execution_count": null,
      "outputs": [
        {
          "output_type": "stream",
          "text": [
            "\u001b[K     |████████████████████████████████| 380.5MB 43kB/s \n",
            "\u001b[K     |████████████████████████████████| 4.3MB 34.2MB/s \n",
            "\u001b[K     |████████████████████████████████| 501kB 34.7MB/s \n",
            "\u001b[K     |████████████████████████████████| 51kB 4.7MB/s \n",
            "\u001b[?25h"
          ],
          "name": "stdout"
        }
      ]
    },
    {
      "cell_type": "code",
      "metadata": {
        "colab": {
          "base_uri": "https://localhost:8080/",
          "height": 35
        },
        "id": "SDKApR5mGslY",
        "outputId": "9720e516-d631-427b-acc7-7887affbe86a"
      },
      "source": [
        "tf.__version__"
      ],
      "execution_count": null,
      "outputs": [
        {
          "output_type": "execute_result",
          "data": {
            "application/vnd.google.colaboratory.intrinsic+json": {
              "type": "string"
            },
            "text/plain": [
              "'2.0.0-rc1'"
            ]
          },
          "metadata": {
            "tags": []
          },
          "execution_count": 2
        }
      ]
    },
    {
      "cell_type": "markdown",
      "metadata": {
        "id": "summf3p4FCIy"
      },
      "source": [
        "- Mnist 데이터 셋을 준비합니다."
      ]
    },
    {
      "cell_type": "code",
      "metadata": {
        "colab": {
          "base_uri": "https://localhost:8080/"
        },
        "id": "Zb-zX6r6Fa-e",
        "outputId": "e10f5d63-5095-4102-9cba-12c418026c7a"
      },
      "source": [
        "mnist = tf.keras.datasets.mnist\n",
        "\n",
        "(x_train, y_train), (x_test, y_test) = mnist.load_data()\n",
        "x_train, x_test = x_train / 255.0, x_test / 255.0\n",
        "\n",
        "# 차원을 추가하는 방법 tf.expand_dims(train_x, 1) 1이면 앞에 추가 (1, 60000, 28, 28)\n",
        "# -1이면 뒤에 추가 (60000, 28, 28, 1)\n",
        "# 또 다른 차원 추가 방법\n",
        "\n",
        "print('\\n전', x_train.shape)\n",
        "x_train = x_train[..., tf.newaxis]\n",
        "print('\\n후', x_train.shape)\n",
        "\n",
        "x_test = x_test[..., tf.newaxis]"
      ],
      "execution_count": null,
      "outputs": [
        {
          "output_type": "stream",
          "text": [
            "\n",
            "전 (60000, 28, 28)\n",
            "\n",
            "후 (60000, 28, 28, 1)\n"
          ],
          "name": "stdout"
        }
      ]
    },
    {
      "cell_type": "markdown",
      "metadata": {
        "id": "lqDJ12IfHJW2"
      },
      "source": [
        "tf.data를 사용하여 데이터셋을 섞고 배치를 만듭니다."
      ]
    },
    {
      "cell_type": "code",
      "metadata": {
        "colab": {
          "base_uri": "https://localhost:8080/"
        },
        "id": "ce0-YiInGgHo",
        "outputId": "8ba6bd6d-194b-4450-a81d-edb22935c2cb"
      },
      "source": [
        "# 튜플 형태로 데이터 셋을 만들고 셔플을 해줌\n",
        "\n",
        "print(x_train.shape)\n",
        "\n",
        "y_train = y_train.reshape(60000, 1)\n",
        "y_test = y_test.reshape(10000, 1)\n",
        "\n",
        "train_ds = tf.data.Dataset.from_tensor_slices(\n",
        "    (x_train, y_train)).shuffle(10000).batch(32)\n",
        "test_ds = tf.data.Dataset.from_tensor_slices((x_test, y_test)).batch(32)\n",
        "\n"
      ],
      "execution_count": null,
      "outputs": [
        {
          "output_type": "stream",
          "text": [
            "(60000, 28, 28, 1)\n"
          ],
          "name": "stdout"
        }
      ]
    },
    {
      "cell_type": "code",
      "metadata": {
        "id": "n1rwi0opHyhe"
      },
      "source": [
        "# 이전에 keras로 층을 이어준거와 달리 함수로 만들어서 작성함\n",
        "\n",
        "class MyModel(Model):\n",
        "  def __init__(self):\n",
        "    super(MyModel, self).__init__()\n",
        "    self.conv1 = Conv2D(32, 3, activation='relu')\n",
        "    self.flatten = Flatten()\n",
        "    self.d1 = Dense(128, activation='relu')\n",
        "    self.d2 = Dense(10, activation='softmax')\n",
        "\n",
        "  def call(self, x):\n",
        "    x = self.conv1(x)\n",
        "    x = self.flatten(x)\n",
        "    x = self.d1(x)\n",
        "    return self.d2(x)\n",
        "\n",
        "model = MyModel()"
      ],
      "execution_count": null,
      "outputs": []
    },
    {
      "cell_type": "markdown",
      "metadata": {
        "id": "lNqY1NcRJITX"
      },
      "source": [
        "필요한 최적화 함수와 손실 함수를 선택합니다."
      ]
    },
    {
      "cell_type": "code",
      "metadata": {
        "id": "3wnPT9qsJFt3"
      },
      "source": [
        "loss_object = tf.keras.losses.SparseCategoricalCrossentropy()\n",
        "\n",
        "optimizer = tf.keras.optimizers.Adam()"
      ],
      "execution_count": null,
      "outputs": []
    },
    {
      "cell_type": "markdown",
      "metadata": {
        "id": "hfyyKOb9JqaP"
      },
      "source": [
        "모델의 손실과 성능을 측정할 지표를 선택합니다. 에포크가 진행되는 동안 수집된 측정 지표를 바탕으로 최종 결과를 출력합니다.\n"
      ]
    },
    {
      "cell_type": "code",
      "metadata": {
        "id": "Zf2dDi0DJkk2"
      },
      "source": [
        "train_loss = tf.keras.metrics.Mean(name='train_loss') # 주어진 가중 평균을 계산합니다. [1, 2, 3] = 2 이렇게\n",
        "\n",
        "# 예측값과 타겟값이 얼마나 자주 매칭되는지 계산해줍니다.\n",
        "train_accuracy = tf.keras.metrics.SparseCategoricalAccuracy(name='train_accuracy') \n",
        "\n",
        "test_loss = tf.keras.metrics.Mean(name='test_loss')\n",
        "test_accuracy = tf.keras.metrics.SparseCategoricalAccuracy(name='test_accuracy')"
      ],
      "execution_count": null,
      "outputs": []
    },
    {
      "cell_type": "markdown",
      "metadata": {
        "id": "HkS8IBPRLmJW"
      },
      "source": [
        "tf.GradientTape을 사용하여 모델을 훈련합니다.\n",
        "\n",
        "- 자동 미분을 위한  API로 tf.GradientTape안에 실행되는 모든 연산을 테이프(tape)에 기록을 합니다.\n",
        "\n",
        "\n",
        "![image.png](data:image/png;base64,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)\n"
      ]
    },
    {
      "cell_type": "code",
      "metadata": {
        "id": "1IcC6B9XLlYu"
      },
      "source": [
        "@tf.function\n",
        "\n",
        "def train_step(images, labels):\n",
        "    with tf.GradientTape() as tape:\n",
        "        predictions = model(images) # 예측을 진행\n",
        "        loss = loss_object(labels, predictions)# 크로스 엔트로피로 손실을 구함\n",
        "    \n",
        "    gradients = tape.gradient(loss, model.trainable_variables)# 미분 진행\n",
        "    optimizer.apply_gradients(zip(gradients, model.trainable_variables)) # 가중치 갱신\n",
        "    train_loss(loss) # 가중 평균 계산(전체 loss값)\n",
        "    train_accuracy(labels, predictions)# 몇 개가 맞았는지 계산\n"
      ],
      "execution_count": null,
      "outputs": []
    },
    {
      "cell_type": "markdown",
      "metadata": {
        "id": "__rHXHKfSwMx"
      },
      "source": [
        "모델 테스트"
      ]
    },
    {
      "cell_type": "code",
      "metadata": {
        "id": "xSZFlLhcSxhw"
      },
      "source": [
        "@tf.function\n",
        "def test_step(images, labels):\n",
        "    predictions = model(images)\n",
        "    t_loss = loss_object(labels, predictions)\n",
        "\n",
        "    test_loss(t_loss)\n",
        "    test_accuracy(labels, predictions)"
      ],
      "execution_count": null,
      "outputs": []
    },
    {
      "cell_type": "code",
      "metadata": {
        "colab": {
          "base_uri": "https://localhost:8080/"
        },
        "id": "9R-xQ5c3S1f1",
        "outputId": "1be4993a-bc5b-4f14-97bb-9c6c6c6c8f44"
      },
      "source": [
        "EPOCHS = 5\n",
        "\n",
        "for epoch in range(EPOCHS):\n",
        "    for images, labels in train_ds:\n",
        "        train_step(images, labels)\n",
        "\n",
        "    for test_images, test_labels in test_ds:\n",
        "        test_step(test_images, test_labels)\n",
        "\n",
        "    template = '에포크: {}, 손실: {}, 정확도: {}, 테스트 손실: {}, 테스트 정확도: {}'\n",
        "    print (template.format(epoch+1,\n",
        "                         train_loss.result(),\n",
        "                         train_accuracy.result()*100,\n",
        "                         test_loss.result(),\n",
        "                         test_accuracy.result()*100))"
      ],
      "execution_count": null,
      "outputs": [
        {
          "output_type": "stream",
          "text": [
            "WARNING:tensorflow:Entity <function train_step at 0x7ff4d8bdc950> could not be transformed and will be executed as-is. Please report this to the AutoGraph team. When filing the bug, set the verbosity to 10 (on Linux, `export AUTOGRAPH_VERBOSITY=10`) and attach the full output. Cause: module 'gast' has no attribute 'Str'\n",
            "WARNING: Entity <function train_step at 0x7ff4d8bdc950> could not be transformed and will be executed as-is. Please report this to the AutoGraph team. When filing the bug, set the verbosity to 10 (on Linux, `export AUTOGRAPH_VERBOSITY=10`) and attach the full output. Cause: module 'gast' has no attribute 'Str'\n",
            "WARNING:tensorflow:Layer my_model_1 is casting an input tensor from dtype float64 to the layer's dtype of float32, which is new behavior in TensorFlow 2.  The layer has dtype float32 because it's dtype defaults to floatx.\n",
            "\n",
            "If you intended to run this layer in float32, you can safely ignore this warning. If in doubt, this warning is likely only an issue if you are porting a TensorFlow 1.X model to TensorFlow 2.\n",
            "\n",
            "To change all layers to have dtype float64 by default, call `tf.keras.backend.set_floatx('float64')`. To change just this layer, pass dtype='float64' to the layer constructor. If you are the author of this layer, you can disable autocasting by passing autocast=False to the base Layer constructor.\n",
            "\n",
            "WARNING:tensorflow:Entity <bound method MyModel.call of <__main__.MyModel object at 0x7ff4d8be2a10>> could not be transformed and will be executed as-is. Please report this to the AutoGraph team. When filing the bug, set the verbosity to 10 (on Linux, `export AUTOGRAPH_VERBOSITY=10`) and attach the full output. Cause: Bad argument number for Name: 3, expecting 4\n",
            "WARNING: Entity <bound method MyModel.call of <__main__.MyModel object at 0x7ff4d8be2a10>> could not be transformed and will be executed as-is. Please report this to the AutoGraph team. When filing the bug, set the verbosity to 10 (on Linux, `export AUTOGRAPH_VERBOSITY=10`) and attach the full output. Cause: Bad argument number for Name: 3, expecting 4\n",
            "WARNING:tensorflow:Entity <function Function._initialize_uninitialized_variables.<locals>.initialize_variables at 0x7ff4d8ba8f80> could not be transformed and will be executed as-is. Please report this to the AutoGraph team. When filing the bug, set the verbosity to 10 (on Linux, `export AUTOGRAPH_VERBOSITY=10`) and attach the full output. Cause: module 'gast' has no attribute 'Index'\n",
            "WARNING: Entity <function Function._initialize_uninitialized_variables.<locals>.initialize_variables at 0x7ff4d8ba8f80> could not be transformed and will be executed as-is. Please report this to the AutoGraph team. When filing the bug, set the verbosity to 10 (on Linux, `export AUTOGRAPH_VERBOSITY=10`) and attach the full output. Cause: module 'gast' has no attribute 'Index'\n",
            "WARNING:tensorflow:Entity <bound method MyModel.call of <__main__.MyModel object at 0x7ff4d8be2a10>> could not be transformed and will be executed as-is. Please report this to the AutoGraph team. When filing the bug, set the verbosity to 10 (on Linux, `export AUTOGRAPH_VERBOSITY=10`) and attach the full output. Cause: Bad argument number for Name: 3, expecting 4\n",
            "WARNING: Entity <bound method MyModel.call of <__main__.MyModel object at 0x7ff4d8be2a10>> could not be transformed and will be executed as-is. Please report this to the AutoGraph team. When filing the bug, set the verbosity to 10 (on Linux, `export AUTOGRAPH_VERBOSITY=10`) and attach the full output. Cause: Bad argument number for Name: 3, expecting 4\n",
            "WARNING:tensorflow:Entity <function test_step at 0x7ff4d8bdcb00> could not be transformed and will be executed as-is. Please report this to the AutoGraph team. When filing the bug, set the verbosity to 10 (on Linux, `export AUTOGRAPH_VERBOSITY=10`) and attach the full output. Cause: module 'gast' has no attribute 'Str'\n",
            "WARNING: Entity <function test_step at 0x7ff4d8bdcb00> could not be transformed and will be executed as-is. Please report this to the AutoGraph team. When filing the bug, set the verbosity to 10 (on Linux, `export AUTOGRAPH_VERBOSITY=10`) and attach the full output. Cause: module 'gast' has no attribute 'Str'\n",
            "WARNING:tensorflow:Entity <bound method MyModel.call of <__main__.MyModel object at 0x7ff4d8be2a10>> could not be transformed and will be executed as-is. Please report this to the AutoGraph team. When filing the bug, set the verbosity to 10 (on Linux, `export AUTOGRAPH_VERBOSITY=10`) and attach the full output. Cause: Bad argument number for Name: 3, expecting 4\n",
            "WARNING: Entity <bound method MyModel.call of <__main__.MyModel object at 0x7ff4d8be2a10>> could not be transformed and will be executed as-is. Please report this to the AutoGraph team. When filing the bug, set the verbosity to 10 (on Linux, `export AUTOGRAPH_VERBOSITY=10`) and attach the full output. Cause: Bad argument number for Name: 3, expecting 4\n",
            "WARNING:tensorflow:Entity <bound method MyModel.call of <__main__.MyModel object at 0x7ff4d8be2a10>> could not be transformed and will be executed as-is. Please report this to the AutoGraph team. When filing the bug, set the verbosity to 10 (on Linux, `export AUTOGRAPH_VERBOSITY=10`) and attach the full output. Cause: Bad argument number for Name: 3, expecting 4\n",
            "WARNING: Entity <bound method MyModel.call of <__main__.MyModel object at 0x7ff4d8be2a10>> could not be transformed and will be executed as-is. Please report this to the AutoGraph team. When filing the bug, set the verbosity to 10 (on Linux, `export AUTOGRAPH_VERBOSITY=10`) and attach the full output. Cause: Bad argument number for Name: 3, expecting 4\n",
            "에포크: 1, 손실: 0.13789483904838562, 정확도: 95.76000213623047, 테스트 손실: 0.06604301184415817, 테스트 정확도: 97.70999908447266\n",
            "에포크: 2, 손실: 0.09023158997297287, 정확도: 97.22083282470703, 테스트 손실: 0.05987118184566498, 테스트 정확도: 97.90999603271484\n",
            "에포크: 3, 손실: 0.06771866977214813, 정확도: 97.90833282470703, 테스트 손실: 0.05801469460129738, 테스트 정확도: 98.07333374023438\n",
            "에포크: 4, 손실: 0.05430703982710838, 정확도: 98.31541442871094, 테스트 손실: 0.05819959193468094, 테스트 정확도: 98.13249969482422\n",
            "에포크: 5, 손실: 0.045459721237421036, 정확도: 98.58599853515625, 테스트 손실: 0.05822969973087311, 테스트 정확도: 98.20600128173828\n"
          ],
          "name": "stdout"
        }
      ]
    },
    {
      "cell_type": "code",
      "metadata": {
        "colab": {
          "base_uri": "https://localhost:8080/"
        },
        "id": "wxd-ruObYMFG",
        "outputId": "0fb96f66-f611-4ad7-e5e7-4c93815085b7"
      },
      "source": [
        "!pip install -q tensorflow-gpu==2.0.0-rc1\n",
        "import tensorflow as tf\n",
        "\n",
        "from tensorflow.keras.layers import Dense, Flatten, Conv2D\n",
        "from tensorflow.keras import Model"
      ],
      "execution_count": null,
      "outputs": [
        {
          "output_type": "stream",
          "text": [
            "\u001b[K     |████████████████████████████████| 380.5MB 44kB/s \n",
            "\u001b[K     |████████████████████████████████| 51kB 6.5MB/s \n",
            "\u001b[K     |████████████████████████████████| 4.3MB 43.4MB/s \n",
            "\u001b[K     |████████████████████████████████| 501kB 38.7MB/s \n",
            "\u001b[?25h"
          ],
          "name": "stdout"
        }
      ]
    },
    {
      "cell_type": "code",
      "metadata": {
        "id": "zUFDmgZEYPAt"
      },
      "source": [
        "mnist = tf.keras.datasets.mnist\n",
        "\n",
        "(x_train, y_train), (x_test, y_test) = mnist.load_data()\n",
        "x_train, x_test = x_train / 255.0, x_test / 255.0\n",
        "\n",
        "# 채널 차원을 추가합니다.\n",
        "x_train = x_train[..., tf.newaxis]\n",
        "x_test = x_test[..., tf.newaxis]"
      ],
      "execution_count": null,
      "outputs": []
    },
    {
      "cell_type": "code",
      "metadata": {
        "id": "kKoSwKmgYRgO"
      },
      "source": [
        "train_ds = tf.data.Dataset.from_tensor_slices(\n",
        "    (x_train, y_train)).shuffle(10000).batch(32)\n",
        "test_ds = tf.data.Dataset.from_tensor_slices((x_test, y_test)).batch(32)"
      ],
      "execution_count": null,
      "outputs": []
    },
    {
      "cell_type": "code",
      "metadata": {
        "id": "6NbCkR_3Xx1m"
      },
      "source": [
        "class MyModel(Model):\n",
        "  def __init__(self):\n",
        "    super(MyModel, self).__init__()\n",
        "    self.conv1 = Conv2D(32, 3, activation='relu')\n",
        "    self.flatten = Flatten()\n",
        "    self.d1 = Dense(128, activation='relu')\n",
        "    self.d2 = Dense(10, activation='softmax')\n",
        "\n",
        "  def call(self, x):\n",
        "    x = self.conv1(x)\n",
        "    x = self.flatten(x)\n",
        "    x = self.d1(x)\n",
        "    return self.d2(x)\n",
        "\n",
        "model = MyModel()"
      ],
      "execution_count": null,
      "outputs": []
    },
    {
      "cell_type": "code",
      "metadata": {
        "id": "DUwK_6dZXxzn"
      },
      "source": [
        "loss_object = tf.keras.losses.SparseCategoricalCrossentropy()\n",
        "\n",
        "optimizer = tf.keras.optimizers.Adam()"
      ],
      "execution_count": null,
      "outputs": []
    },
    {
      "cell_type": "code",
      "metadata": {
        "id": "MaRGK_30XxxX"
      },
      "source": [
        "train_loss = tf.keras.metrics.Mean(name='train_loss')\n",
        "train_accuracy = tf.keras.metrics.SparseCategoricalAccuracy(name='train_accuracy')\n",
        "\n",
        "test_loss = tf.keras.metrics.Mean(name='test_loss')\n",
        "test_accuracy = tf.keras.metrics.SparseCategoricalAccuracy(name='test_accuracy')"
      ],
      "execution_count": null,
      "outputs": []
    },
    {
      "cell_type": "code",
      "metadata": {
        "id": "hpY92MBpS2kg"
      },
      "source": [
        "@tf.function\n",
        "def train_step(images, labels):\n",
        "  with tf.GradientTape() as tape:\n",
        "    predictions = model(images)\n",
        "    loss = loss_object(labels, predictions)\n",
        "  gradients = tape.gradient(loss, model.trainable_variables)\n",
        "  optimizer.apply_gradients(zip(gradients, model.trainable_variables))\n",
        "\n",
        "  train_loss(loss)\n",
        "  train_accuracy(labels, predictions)"
      ],
      "execution_count": null,
      "outputs": []
    },
    {
      "cell_type": "code",
      "metadata": {
        "id": "K6mVtkBKX5ou"
      },
      "source": [
        "@tf.function\n",
        "def test_step(images, labels):\n",
        "  predictions = model(images)\n",
        "  t_loss = loss_object(labels, predictions)\n",
        "\n",
        "  test_loss(t_loss)\n",
        "  test_accuracy(labels, predictions)"
      ],
      "execution_count": null,
      "outputs": []
    },
    {
      "cell_type": "code",
      "metadata": {
        "colab": {
          "base_uri": "https://localhost:8080/"
        },
        "id": "JGXMVu_AX6j2",
        "outputId": "16fa6a86-fde0-4188-a308-04f4bd084809"
      },
      "source": [
        "EPOCHS = 5\n",
        "\n",
        "for epoch in range(EPOCHS):\n",
        "  for images, labels in train_ds:\n",
        "    train_step(images, labels)\n",
        "\n",
        "  for test_images, test_labels in test_ds:\n",
        "    test_step(test_images, test_labels)\n",
        "\n",
        "  template = '에포크: {}, 손실: {}, 정확도: {}, 테스트 손실: {}, 테스트 정확도: {}'\n",
        "  print (template.format(epoch+1,\n",
        "                         train_loss.result(),\n",
        "                         train_accuracy.result()*100,\n",
        "                         test_loss.result(),\n",
        "                         test_accuracy.result()*100))"
      ],
      "execution_count": null,
      "outputs": [
        {
          "output_type": "stream",
          "text": [
            "에포크: 1, 손실: 0.13904203474521637, 정확도: 95.79833221435547, 테스트 손실: 0.059112098067998886, 테스트 정확도: 98.12999725341797\n",
            "에포크: 2, 손실: 0.09107758849859238, 정확도: 97.22416687011719, 테스트 손실: 0.059575218707323074, 테스트 정확도: 98.0999984741211\n",
            "에포크: 3, 손실: 0.06805794686079025, 정확도: 97.91610717773438, 테스트 손실: 0.05991003289818764, 테스트 정확도: 98.1199951171875\n",
            "에포크: 4, 손실: 0.0544438436627388, 정확도: 98.32333374023438, 테스트 손실: 0.06197056174278259, 테스트 정확도: 98.14749908447266\n",
            "에포크: 5, 손실: 0.04548699036240578, 정확도: 98.59033203125, 테스트 손실: 0.06500194221735, 테스트 정확도: 98.13600158691406\n"
          ],
          "name": "stdout"
        }
      ]
    },
    {
      "cell_type": "code",
      "metadata": {
        "id": "szXXq_TWUnnp"
      },
      "source": [
        ""
      ],
      "execution_count": null,
      "outputs": []
    }
  ]
}