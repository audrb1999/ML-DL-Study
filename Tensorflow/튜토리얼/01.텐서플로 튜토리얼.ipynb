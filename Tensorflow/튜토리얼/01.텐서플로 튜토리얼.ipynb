{
  "nbformat": 4,
  "nbformat_minor": 0,
  "metadata": {
    "colab": {
      "name": "Untitled0.ipynb",
      "provenance": [],
      "collapsed_sections": [],
      "authorship_tag": "ABX9TyOWy36Ucj/yB/8ZObawqHrt",
      "include_colab_link": true
    },
    "kernelspec": {
      "name": "python3",
      "display_name": "Python 3"
    },
    "language_info": {
      "name": "python"
    }
  },
  "cells": [
    {
      "cell_type": "markdown",
      "metadata": {
        "id": "view-in-github",
        "colab_type": "text"
      },
      "source": [
        "<a href=\"https://colab.research.google.com/github/audrb1999/ML-DL-Study/blob/main/Tensorflow/%ED%8A%9C%ED%86%A0%EB%A6%AC%EC%96%BC/01.%ED%85%90%EC%84%9C%ED%94%8C%EB%A1%9C%20%ED%8A%9C%ED%86%A0%EB%A6%AC%EC%96%BC.ipynb\" target=\"_parent\"><img src=\"https://colab.research.google.com/assets/colab-badge.svg\" alt=\"Open In Colab\"/></a>"
      ]
    },
    {
      "cell_type": "markdown",
      "metadata": {
        "id": "3Pq4CLmTk9HO"
      },
      "source": [
        "신경망 훈련하기 \n",
        "\n",
        "1. 기초적인 분류 문제"
      ]
    },
    {
      "cell_type": "code",
      "metadata": {
        "colab": {
          "base_uri": "https://localhost:8080/"
        },
        "id": "hiihSX57k9r1",
        "outputId": "b1d00167-b11e-4b70-bdeb-8304389981dc"
      },
      "source": [
        "# 신경망을 구축해줄 프레임워크를 가져옵니다.\n",
        "\n",
        "import tensorflow as tf\n",
        "from tensorflow import keras\n",
        "\n",
        "# 헬퍼 라이브러리를 임포트합니다.\n",
        "\n",
        "import numpy as np\n",
        "import matplotlib.pyplot as plt\n",
        "\n",
        "print(tf.__version__)"
      ],
      "execution_count": null,
      "outputs": [
        {
          "output_type": "stream",
          "text": [
            "2.5.0\n"
          ],
          "name": "stdout"
        }
      ]
    },
    {
      "cell_type": "code",
      "metadata": {
        "colab": {
          "base_uri": "https://localhost:8080/"
        },
        "id": "IvLVztMPk7mP",
        "outputId": "80dc6589-1fbb-489f-8cf1-103fb0ea0a03"
      },
      "source": [
        "# 패션 엠니스트를 받아와서 분류를 합니다.\n",
        "\n",
        "fashion_mnist = keras.datasets.fashion_mnist\n",
        "\n",
        "(train_images, train_labels), (test_images, test_labels) = fashion_mnist.load_data()\n",
        "\n",
        "# load_data함수를 호출하면 4개의 넘파이 배열이 반환됩니다. 훈련 이미지, 라벨, 테스트 이미지 라벨\n",
        "# 이미지의 크기는 28 x 28 크기의 넘파이 배열이고 픽셀 값을 0~255 사이값입니다.\n",
        "\n"
      ],
      "execution_count": null,
      "outputs": [
        {
          "output_type": "stream",
          "text": [
            "Downloading data from https://storage.googleapis.com/tensorflow/tf-keras-datasets/train-labels-idx1-ubyte.gz\n",
            "32768/29515 [=================================] - 0s 0us/step\n",
            "Downloading data from https://storage.googleapis.com/tensorflow/tf-keras-datasets/train-images-idx3-ubyte.gz\n",
            "26427392/26421880 [==============================] - 0s 0us/step\n",
            "Downloading data from https://storage.googleapis.com/tensorflow/tf-keras-datasets/t10k-labels-idx1-ubyte.gz\n",
            "8192/5148 [===============================================] - 0s 0us/step\n",
            "Downloading data from https://storage.googleapis.com/tensorflow/tf-keras-datasets/t10k-images-idx3-ubyte.gz\n",
            "4423680/4422102 [==============================] - 0s 0us/step\n"
          ],
          "name": "stdout"
        }
      ]
    },
    {
      "cell_type": "markdown",
      "metadata": {
        "id": "9RBW7j5VmB2G"
      },
      "source": [
        "2. 나중에 이미지 출력할 떄 사용하기 위해 별도의 변수를 만들자"
      ]
    },
    {
      "cell_type": "code",
      "metadata": {
        "id": "xPTa3Ppjl_yM"
      },
      "source": [
        "class_names = ['T-shirt/top', 'Trouser', 'Pullover', 'Dress', 'Coat',\n",
        "               'Sandal', 'Shirt', 'Sneaker', 'Bag', 'Ankle boot']"
      ],
      "execution_count": null,
      "outputs": []
    },
    {
      "cell_type": "markdown",
      "metadata": {
        "id": "VZBL8jsSmMiN"
      },
      "source": [
        "3. 데이터 탐색\n",
        "\n",
        "- 데이터 셋에 대해서 알아보자 (shape 등)"
      ]
    },
    {
      "cell_type": "code",
      "metadata": {
        "colab": {
          "base_uri": "https://localhost:8080/"
        },
        "id": "F6leSUs8mLc0",
        "outputId": "39b5e09c-879d-47fe-fe0d-8572a1692774"
      },
      "source": [
        "train_images.shape"
      ],
      "execution_count": null,
      "outputs": [
        {
          "output_type": "execute_result",
          "data": {
            "text/plain": [
              "(60000, 28, 28)"
            ]
          },
          "metadata": {
            "tags": []
          },
          "execution_count": 5
        }
      ]
    },
    {
      "cell_type": "code",
      "metadata": {
        "colab": {
          "base_uri": "https://localhost:8080/"
        },
        "id": "Wzo2RrxcmZlk",
        "outputId": "9f5c217e-4d1e-44e4-a810-8c17a2432296"
      },
      "source": [
        "train_labels # 0~9까지의 값으로 구성됨"
      ],
      "execution_count": null,
      "outputs": [
        {
          "output_type": "execute_result",
          "data": {
            "text/plain": [
              "array([9, 0, 0, ..., 3, 0, 5], dtype=uint8)"
            ]
          },
          "metadata": {
            "tags": []
          },
          "execution_count": 6
        }
      ]
    },
    {
      "cell_type": "markdown",
      "metadata": {
        "id": "lOE0U_u5mg99"
      },
      "source": [
        "4. 데이터 전처리\n",
        "   - 픽셀값 범위가 0~255 사이값임 정규화 해주자\n",
        "   "
      ]
    },
    {
      "cell_type": "code",
      "metadata": {
        "colab": {
          "base_uri": "https://localhost:8080/",
          "height": 265
        },
        "id": "8IARherQmdAN",
        "outputId": "09c631bb-aa3b-464d-ca9a-bf8874bb9090"
      },
      "source": [
        "plt.figure()\n",
        "plt.imshow(train_images[0])\n",
        "plt.colorbar()\n",
        "plt.grid(True)#격자선\n",
        "plt.show()"
      ],
      "execution_count": null,
      "outputs": [
        {
          "output_type": "display_data",
          "data": {
            "image/png": "[encoded data removed]",
            "text/plain": [
              "<Figure size 432x288 with 2 Axes>"
            ]
          },
          "metadata": {
            "tags": [],
            "needs_background": "light"
          }
        }
      ]
    },
    {
      "cell_type": "code",
      "metadata": {
        "id": "czgbXRM7myTM"
      },
      "source": [
        "train_images = train_images/255.0\n",
        "test_images = test_images/255.0 # 실수로 나눠주기"
      ],
      "execution_count": null,
      "outputs": []
    },
    {
      "cell_type": "markdown",
      "metadata": {
        "id": "d_jdjveynEzF"
      },
      "source": [
        "5. 모델 구성\n",
        "\n",
        "층 설정\n",
        "\n",
        "- 층은 주입된 데이터에서 표현을 추출합니다.\n",
        "- 대부분의 딥러닝은 간단한 층을 연결하여 구성홥니다.\n",
        "\n",
        "- tf.keras.layers.Dense와 같은 층들의 가중치(parameter)는 훈련하는 동안 학습됩니다"
      ]
    },
    {
      "cell_type": "markdown",
      "metadata": {
        "id": "jYZYzMZhpttl"
      },
      "source": [
        "Dense Layer는 Fully Connected Layer, 완전연결 계층이라는 개념부터 시작했다. 그렇기에 Dense Layer의 역할 또한, Input과 Output을 모두 연결해주는 것이다."
      ]
    },
    {
      "cell_type": "code",
      "metadata": {
        "id": "FTJ7C-yYm-Ru"
      },
      "source": [
        "model = keras.Sequential([\n",
        "                          # 28, 28을 인풋으로 받고 출력으로 784 1차원으로 출력\n",
        "                          keras.layers.Flatten(input_shape = (28, 28)),\n",
        "                          # 필터 없이 완전연결 연산으로만 진행, 이 층들에서 가중치 학습이 일어남\n",
        "                          # Densely connected 밀집 연결 or Fully connected 완전 연결 계층\n",
        "                          # 128, 10개의 노드를 가짐 \n",
        "                          keras.layers.Dense(128, activation = 'sigmoid'),\n",
        "                          keras.layers.Dense(10, activation='softmax')\n",
        "\n",
        "])"
      ],
      "execution_count": null,
      "outputs": []
    },
    {
      "cell_type": "markdown",
      "metadata": {
        "id": "ye-nNVTWqyh-"
      },
      "source": [
        "6. 모델 컴파일\n",
        "- 손실 함수(Loss function)-훈련 하는 동안 모델의 오차를 측정합니다. 모델의 학습이 올바른 방향으로 향하도록 이 함수를 최소화해야 합니다.\n",
        "\n",
        "- 옵티마이저(Optimizer)-데이터와 손실 함수를 바탕으로 모델의 업데이트 방법을 결정합니다.\n",
        "\n",
        "- 지표(Metrics)-훈련 단계와 테스트 단계를 모니터링하기 위해 사용합니다. 다음 예에서는 올바르게 분류된 이미지의 비율인 정확도를 사용합니다."
      ]
    },
    {
      "cell_type": "code",
      "metadata": {
        "id": "PY3gygyjqx88"
      },
      "source": [
        "# 이렇게 간단하게 설정 가능!\n",
        "\n",
        "model.compile(optimizer='adam', loss = 'sparse_categorical_crossentropy', metrics=['accuracy'])"
      ],
      "execution_count": null,
      "outputs": []
    },
    {
      "cell_type": "markdown",
      "metadata": {
        "id": "ECo9TGXarQHu"
      },
      "source": [
        "7. 모델 훈련\n",
        "\n",
        "  1. 훈련 데이터를 모델에 주입합니다-이 예에서는 train_images와 train_labels 배열입니다.\n",
        "\n",
        "  2. 모델이 이미지와 레이블을 매핑하는 방법을 배웁니다.\n",
        "\n",
        "  3. 테스트 세트에 대한 모델의 예측을 만듭니다-이 예에서는 test_images 배열입니다. 이 예측이 test_labels 배열의 레이블과 맞는지 확인합니다."
      ]
    },
    {
      "cell_type": "code",
      "metadata": {
        "colab": {
          "base_uri": "https://localhost:8080/"
        },
        "id": "NO_Y3YJJrLA8",
        "outputId": "799ae7ed-41df-449b-e6bd-9c536a4fd77c"
      },
      "source": [
        "# model.fit 메서드를 호출하면 모델이 훈련 데이터를 학습합니다.\n",
        "# 6만개를 통째로 5번 학습하는 것\n",
        "\n",
        "model.fit(train_images, train_labels, epochs = 5)\n",
        "\n",
        "# 노드 갯수 128떈 0.8925\n",
        "# 256땐 0.8944\n",
        "\n",
        "\n",
        "# 노드 갯수가 줄면 속도 증가 늘면 느려짐\n",
        "# 노드 갯수 64 일 떈 0.8860\n",
        "\n",
        "# 층이나 노드 갯수가 증가하면 학습 속도가 느려짐\n",
        "# 층을 더 깊게 했더니 정확도가 더 높아짐 0.8955\n",
        "\n",
        "# 시그모이드로 활성화 함수를 바꾸고 이전과 동일하게 학습\n",
        "# 정확도는 0.8857"
      ],
      "execution_count": null,
      "outputs": [
        {
          "output_type": "stream",
          "text": [
            "Epoch 1/5\n",
            "1875/1875 [==============================] - 4s 2ms/step - loss: 0.5417 - accuracy: 0.8129\n",
            "Epoch 2/5\n",
            "1875/1875 [==============================] - 4s 2ms/step - loss: 0.3925 - accuracy: 0.8586\n",
            "Epoch 3/5\n",
            "1875/1875 [==============================] - 4s 2ms/step - loss: 0.3551 - accuracy: 0.8712\n",
            "Epoch 4/5\n",
            "1875/1875 [==============================] - 4s 2ms/step - loss: 0.3313 - accuracy: 0.8786\n",
            "Epoch 5/5\n",
            "1875/1875 [==============================] - 4s 2ms/step - loss: 0.3121 - accuracy: 0.8857\n"
          ],
          "name": "stdout"
        },
        {
          "output_type": "execute_result",
          "data": {
            "text/plain": [
              "<tensorflow.python.keras.callbacks.History at 0x7f0e74e5fc10>"
            ]
          },
          "metadata": {
            "tags": []
          },
          "execution_count": 50
        }
      ]
    },
    {
      "cell_type": "markdown",
      "metadata": {
        "id": "tIGXolYLrxke"
      },
      "source": [
        "8. 정확도 평가"
      ]
    },
    {
      "cell_type": "code",
      "metadata": {
        "colab": {
          "base_uri": "https://localhost:8080/"
        },
        "id": "NgD9KFpIrk6V",
        "outputId": "d5b04ad1-1ed1-46dc-f9e6-a0386b0fe372"
      },
      "source": [
        "test_loss, test_acc = model.evaluate(test_images, test_labels, verbose = 2)\n",
        "\n",
        "print('\\n 테스트 정확도', test_acc)\n",
        "\n",
        "# 테스트 정확도는 0.8784 트레인 정확도는 0.8925\n",
        "# 0.01 정도 테스트 정확도가 낮음, 오버피팅, 분산이 높다는 의미\n",
        "\n",
        "# 노드 갯수를 256으로 늘리니 0.8724가 나옴 편향이 더 증가 0.12\n",
        "\n",
        "# 층을 늘리니 테스트 정확도는 그대로 과대학습이 더 진행되는 것 같음 \n",
        "\n",
        "# 테스트 정확도는 0.8706 0.15로 편향이 더 증가됨"
      ],
      "execution_count": null,
      "outputs": [
        {
          "output_type": "stream",
          "text": [
            "313/313 - 0s - loss: 0.3562 - accuracy: 0.8706\n",
            "\n",
            " 테스트 정확도 0.8705999851226807\n"
          ],
          "name": "stdout"
        }
      ]
    },
    {
      "cell_type": "markdown",
      "metadata": {
        "id": "PZik1FTUs8xu"
      },
      "source": [
        "9. 예측 만들기"
      ]
    },
    {
      "cell_type": "code",
      "metadata": {
        "id": "4z5IYxyfsB-1"
      },
      "source": [
        "# 이제 소프트 맥스에서 나오는 출력으로 예측을 해보자\n",
        "\n",
        "predictions = model.predict(test_images) # 테스트 이미지를 예측한 것"
      ],
      "execution_count": null,
      "outputs": []
    },
    {
      "cell_type": "code",
      "metadata": {
        "colab": {
          "base_uri": "https://localhost:8080/"
        },
        "id": "JPKVvCV_tGhl",
        "outputId": "16ca9b8e-39f8-47d3-a330-0c7b5a48747a"
      },
      "source": [
        "predictions[0] # 소프트 맥스 출력 결과물"
      ],
      "execution_count": null,
      "outputs": [
        {
          "output_type": "execute_result",
          "data": {
            "text/plain": [
              "array([5.1997537e-05, 7.8256104e-09, 4.2884226e-06, 6.3880059e-08,\n",
              "       1.4825445e-05, 2.7430918e-02, 4.3977230e-05, 4.7775488e-02,\n",
              "       1.1987037e-04, 9.2455852e-01], dtype=float32)"
            ]
          },
          "metadata": {
            "tags": []
          },
          "execution_count": 20
        }
      ]
    },
    {
      "cell_type": "code",
      "metadata": {
        "colab": {
          "base_uri": "https://localhost:8080/"
        },
        "id": "m-O4gAe1tL60",
        "outputId": "203bf113-7d12-4df9-e88a-e8685b5f0f7e"
      },
      "source": [
        "np.argmax(predictions[0]) # 9번 클래스로 분류가 됨"
      ],
      "execution_count": null,
      "outputs": [
        {
          "output_type": "execute_result",
          "data": {
            "text/plain": [
              "9"
            ]
          },
          "metadata": {
            "tags": []
          },
          "execution_count": 22
        }
      ]
    },
    {
      "cell_type": "code",
      "metadata": {
        "colab": {
          "base_uri": "https://localhost:8080/"
        },
        "id": "Ii0IzGautWGr",
        "outputId": "670d1cbd-dccf-408e-efd9-b8cfe9906694"
      },
      "source": [
        "test_labels[0]"
      ],
      "execution_count": null,
      "outputs": [
        {
          "output_type": "execute_result",
          "data": {
            "text/plain": [
              "9"
            ]
          },
          "metadata": {
            "tags": []
          },
          "execution_count": 23
        }
      ]
    },
    {
      "cell_type": "markdown",
      "metadata": {
        "id": "GTW9mO4HtxCV"
      },
      "source": [
        "10. 시각화"
      ]
    },
    {
      "cell_type": "code",
      "metadata": {
        "id": "sS1yC1KJtd3E"
      },
      "source": [
        "def plot_image(i, predictions_array, true_label, img):\n",
        "  predictions_array, true_label, img = predictions_array[i], true_label[i], img[i]\n",
        "  plt.grid(False)\n",
        "  plt.xticks([])\n",
        "  plt.yticks([])\n",
        "\n",
        "  plt.imshow(img, cmap=plt.cm.binary)\n",
        "\n",
        "  predicted_label = np.argmax(predictions_array)\n",
        "  if predicted_label == true_label:\n",
        "    color = 'blue'\n",
        "  else:\n",
        "    color = 'red'\n",
        "\n",
        "  plt.xlabel(\"{} {:2.0f}% ({})\".format(class_names[predicted_label],\n",
        "                                100*np.max(predictions_array),\n",
        "                                class_names[true_label]),\n",
        "                                color=color)\n",
        "\n",
        "def plot_value_array(i, predictions_array, true_label):\n",
        "  predictions_array, true_label = predictions_array[i], true_label[i]\n",
        "  plt.grid(False)\n",
        "  plt.xticks([])\n",
        "  plt.yticks([])\n",
        "  thisplot = plt.bar(range(10), predictions_array, color=\"#777777\")\n",
        "  plt.ylim([0, 1])\n",
        "  predicted_label = np.argmax(predictions_array)\n",
        "\n",
        "  thisplot[predicted_label].set_color('red')\n",
        "  thisplot[true_label].set_color('blue')"
      ],
      "execution_count": null,
      "outputs": []
    },
    {
      "cell_type": "code",
      "metadata": {
        "colab": {
          "base_uri": "https://localhost:8080/",
          "height": 203
        },
        "id": "A3ssQbhat-UM",
        "outputId": "3d8bd8d1-5ef6-430d-c20c-7cfc9f8cb2c3"
      },
      "source": [
        "i = 0\n",
        "plt.figure(figsize=(6,3))\n",
        "plt.subplot(1,2,1)\n",
        "plot_image(i, predictions, test_labels, test_images)\n",
        "plt.subplot(1,2,2)\n",
        "plot_value_array(i, predictions,  test_labels)\n",
        "plt.show()"
      ],
      "execution_count": null,
      "outputs": [
        {
          "output_type": "display_data",
          "data": {
            "image/png": "[encoded data removed]",
            "text/plain": [
              "<Figure size 432x216 with 2 Axes>"
            ]
          },
          "metadata": {
            "tags": []
          }
        }
      ]
    },
    {
      "cell_type": "markdown",
      "metadata": {
        "id": "zW9wH13YuNld"
      },
      "source": [
        "11. 한 개의 이미지에 대한 예측"
      ]
    },
    {
      "cell_type": "code",
      "metadata": {
        "colab": {
          "base_uri": "https://localhost:8080/"
        },
        "id": "fiGql60kuhvN",
        "outputId": "d5454217-77e0-4828-93b8-7648f959e129"
      },
      "source": [
        "img = test_images[0]\n",
        "\n",
        "print(img.shape)"
      ],
      "execution_count": null,
      "outputs": [
        {
          "output_type": "stream",
          "text": [
            "(28, 28)\n"
          ],
          "name": "stdout"
        }
      ]
    },
    {
      "cell_type": "code",
      "metadata": {
        "colab": {
          "base_uri": "https://localhost:8080/"
        },
        "id": "0WZnWkWBt_Vs",
        "outputId": "11d41efb-ccde-4a38-aa9e-2db1366c7a1b"
      },
      "source": [
        "img = (np.expand_dims(img,0)) # 3차원 배열을 출력으로 받으니 배열에 차원 추가, 행에 추가해서 0\n",
        "\n",
        "print(img.shape)"
      ],
      "execution_count": null,
      "outputs": [
        {
          "output_type": "stream",
          "text": [
            "(1, 28, 28)\n"
          ],
          "name": "stdout"
        }
      ]
    },
    {
      "cell_type": "code",
      "metadata": {
        "colab": {
          "base_uri": "https://localhost:8080/"
        },
        "id": "y8sgywg8ue9M",
        "outputId": "543a21f8-7762-4664-91ea-ccaee2eb51af"
      },
      "source": [
        "# 이미지 예측\n",
        "\n",
        "predictions_single = model.predict(img) # 라벨이 없어도 됨!\n",
        "\n",
        "print(predictions_single)"
      ],
      "execution_count": null,
      "outputs": [
        {
          "output_type": "stream",
          "text": [
            "[[5.1997438e-05 7.8255802e-09 4.2884226e-06 6.3879817e-08 1.4825431e-05\n",
            "  2.7430899e-02 4.3977190e-05 4.7775488e-02 1.1987049e-04 9.2455852e-01]]\n"
          ],
          "name": "stdout"
        }
      ]
    },
    {
      "cell_type": "code",
      "metadata": {
        "colab": {
          "base_uri": "https://localhost:8080/",
          "height": 300
        },
        "id": "b2AcSk_ju-Ed",
        "outputId": "93622beb-c4d5-46e3-ce57-c2f177ec5a29"
      },
      "source": [
        "plot_value_array(0, predictions_single, test_labels)\n",
        "_ = plt.xticks(range(10), class_names, rotation=45)"
      ],
      "execution_count": null,
      "outputs": [
        {
          "output_type": "display_data",
          "data": {
            "image/png": "[encoded data removed]",
            "text/plain": [
              "<Figure size 432x288 with 1 Axes>"
            ]
          },
          "metadata": {
            "tags": [],
            "needs_background": "light"
          }
        }
      ]
    }
  ]
}