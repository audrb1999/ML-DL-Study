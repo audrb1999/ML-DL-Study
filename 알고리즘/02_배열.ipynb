{
  "nbformat": 4,
  "nbformat_minor": 0,
  "metadata": {
    "colab": {
      "name": "01.배열.ipynb",
      "provenance": [],
      "collapsed_sections": [],
      "authorship_tag": "ABX9TyPZp/S2+ljm+Kptbc/XUBdk",
      "include_colab_link": true
    },
    "kernelspec": {
      "name": "python3",
      "display_name": "Python 3"
    },
    "language_info": {
      "name": "python"
    }
  },
  "cells": [
    {
      "cell_type": "markdown",
      "metadata": {
        "id": "view-in-github",
        "colab_type": "text"
      },
      "source": [
        "<a href=\"https://colab.research.google.com/github/audrb1999/ML-DL-Study/blob/main/%EC%95%8C%EA%B3%A0%EB%A6%AC%EC%A6%98/02_%EB%B0%B0%EC%97%B4.ipynb\" target=\"_parent\"><img src=\"https://colab.research.google.com/assets/colab-badge.svg\" alt=\"Open In Colab\"/></a>"
      ]
    },
    {
      "cell_type": "markdown",
      "metadata": {
        "id": "4bt2oH-o6YL4"
      },
      "source": [
        "#배열\n",
        "\n"
      ]
    },
    {
      "cell_type": "markdown",
      "metadata": {
        "id": "WYHhWzkG6zNd"
      },
      "source": [
        "꼭 알아두어야 할 자료구조 1. 배열 (array)\n",
        "\n",
        "\n",
        "- 데이터를 나열하고, 각 데이터를 인덱스에 대응하도록 구성한 데이터 구조\n",
        "\n",
        "- 파이썬에서는 리스트 타입이 배열 기능을 제공하고 있음\n",
        "\n"
      ]
    },
    {
      "cell_type": "markdown",
      "metadata": {
        "id": "P1UN2_427D63"
      },
      "source": [
        "## 배열이 왜 필요할까\n",
        "\n",
        "- 같은 종류의 데이터를 효율적으로 관리하게 위해 사용 (한 가지 자료형만 가능 np같이)\n",
        "\n",
        "- 같은 종류의 데이터를 순차적으로 저장\n",
        "\n",
        "- 실제 데이터를 저장을 하고 그 데이터에 인덱스로 접근할 수 있습니다.\n",
        "\n"
      ]
    },
    {
      "cell_type": "markdown",
      "metadata": {
        "id": "xEF3WeFOA_Rv"
      },
      "source": [
        "- 배열의 장점\n",
        "\n",
        "   - 빠른 접근이 가능 (인덱스로)\n",
        "\n",
        "\n",
        "- 배열의 단점\n",
        "\n",
        "    - 데이터 추가가 어렵다. > 다시 생성해야함\n",
        "    - 데이터가 가변적이라면 데이터를 추가하거나 삭제할 때 삭제하고 나서 빈공간을 없애기 위해 앞에 데이터를 당긴다던지 추가할려면 데이터 공간을 따로 마련을해서 배열을 생성해야한다든지\n",
        "    \n",
        "     >추가/삭제가 어렵다, 미리 최대 길이를 지정해야함"
      ]
    },
    {
      "cell_type": "code",
      "metadata": {
        "colab": {
          "base_uri": "https://localhost:8080/"
        },
        "id": "iPmYiKcg6QIn",
        "outputId": "fe95594f-accf-4b09-986d-e1d3e19bd411"
      },
      "source": [
        "country = 'US'\n",
        "print(country)\n",
        "\n",
        "country += 'A'\n",
        "print(country)\n",
        "\n",
        "# 데이터 추가가 됨!\n",
        "# 배열은 추가할려면 변수를 재지정 해야함!"
      ],
      "execution_count": null,
      "outputs": [
        {
          "output_type": "stream",
          "text": [
            "US\n",
            "USA\n"
          ],
          "name": "stdout"
        }
      ]
    }
  ]
}