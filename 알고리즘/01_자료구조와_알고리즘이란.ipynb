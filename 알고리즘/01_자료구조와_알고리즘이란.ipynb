{
  "nbformat": 4,
  "nbformat_minor": 0,
  "metadata": {
    "colab": {
      "name": "01.자료구조와 알고리즘이란.ipynb",
      "provenance": [],
      "collapsed_sections": [],
      "authorship_tag": "ABX9TyP6vl+ViHiUmAgNJp2gjRMu",
      "include_colab_link": true
    },
    "kernelspec": {
      "name": "python3",
      "display_name": "Python 3"
    },
    "language_info": {
      "name": "python"
    }
  },
  "cells": [
    {
      "cell_type": "markdown",
      "metadata": {
        "id": "view-in-github",
        "colab_type": "text"
      },
      "source": [
        "<a href=\"https://colab.research.google.com/github/audrb1999/ML-DL-Study/blob/main/%EC%95%8C%EA%B3%A0%EB%A6%AC%EC%A6%98/01_%EC%9E%90%EB%A3%8C%EA%B5%AC%EC%A1%B0%EC%99%80_%EC%95%8C%EA%B3%A0%EB%A6%AC%EC%A6%98%EC%9D%B4%EB%9E%80.ipynb\" target=\"_parent\"><img src=\"https://colab.research.google.com/assets/colab-badge.svg\" alt=\"Open In Colab\"/></a>"
      ]
    },
    {
      "cell_type": "markdown",
      "metadata": {
        "id": "V6d7abLC2x0J"
      },
      "source": [
        "# 자료구조와 알고리즘이란?\n",
        "\n"
      ]
    },
    {
      "cell_type": "markdown",
      "metadata": {
        "id": "kJbdRzMb2xxx"
      },
      "source": [
        "자료구조란?\n",
        "- 용어: 자료구조, 데이터 구조, data structure\n",
        "- 대량의 데이터를 효율적으로 관리할 수 있는 데이터의 구조를 의미\n",
        "   - 현실에 있는 정보를 컴퓨터에 저장하는 방법\n",
        "\n",
        "- 코드상에서 효율적으로 데이터를 처리하기 위해, 데이터 특성에 따라 체례적으로 데이터를 구조해야함!\n",
        "   - 어떤 데이터 구조를 사용하느냐에 따라, 코드 효율이 달라짐!"
      ]
    },
    {
      "cell_type": "markdown",
      "metadata": {
        "id": "eUuFWw842xvp"
      },
      "source": [
        "- 효율적으로 데이터를 관리하는 예\n",
        "\n",
        "  - 우편번호: 전국에 있는 구역을 5자리의 우편번호로 표현!\n",
        "\n",
        "  - 학생 관리: 학년, 반, 번\n",
        "     - 다음과 같이 구조화 되어있다면 3000명 중 특정 학생을 찾기 위해서 그 학생의 학년, 반, 번호만 알면 됨!\n",
        "     - 만약 구조화가 되어있지 않다면 전체 학생부를 모두 훑어야함!\n",
        "\n",
        "  다음과 같이 구조화하는 것!"
      ]
    },
    {
      "cell_type": "markdown",
      "metadata": {
        "id": "k8EtLjpF2xsw"
      },
      "source": [
        "## 대표적인 자료구조\n",
        "\n",
        "- 배열, 스택, 큐, 링크드 리스트, 해쉬 테이블, 힙 등\n",
        "\n",
        "> 현실 세계의 가장 대표적인 데이터 구조? - 사전, 전화번호부"
      ]
    },
    {
      "cell_type": "markdown",
      "metadata": {
        "id": "e3mGiPFr2xqZ"
      },
      "source": [
        "## 알고리즘이란?\n",
        "\n",
        "- 용어: 알고리즘, Algorithm\n",
        "- 어떤 문제를 풀기 위한 절차 / 방법\n",
        "- 어떤 문제에 대해, 특정한 입력을 넣으면, 원하는 출력을 얻을 수 있도록 만드는 프로그래밍\n",
        "\n",
        "> 현실 세계의 가장 대표적인 알고리즘? 레시피\n",
        "\n",
        "알고리즘의 효율 = 시간, 메모리(공간)적을 효율적으로 사용했나"
      ]
    },
    {
      "cell_type": "markdown",
      "metadata": {
        "id": "binPm-a22xoR"
      },
      "source": [
        "## 자료구조와 알고리즘이 중요한 이유\n",
        "\n",
        "- 어떤 자료구조와 알고리즘을 쓰느냐에 따라, 성능이 천지차!\n",
        "\n",
        "> 결국 프로그래밍을 잘 할 수 있는 기술과 역량을 익히고, 검증할 수 있음!\n",
        "\n",
        "- 많은 데이터를 사용하기에 중요도가 더 올라감!"
      ]
    }
  ]
}