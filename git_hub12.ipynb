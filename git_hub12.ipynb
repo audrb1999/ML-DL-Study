{
  "nbformat": 4,
  "nbformat_minor": 0,
  "metadata": {
    "colab": {
      "name": "git_hub12.ipynb",
      "provenance": [],
      "authorship_tag": "ABX9TyMiUWAJkWGOhrwJKlIfDNVt",
      "include_colab_link": true
    },
    "kernelspec": {
      "name": "python3",
      "display_name": "Python 3"
    },
    "language_info": {
      "name": "python"
    }
  },
  "cells": [
    {
      "cell_type": "markdown",
      "metadata": {
        "id": "view-in-github",
        "colab_type": "text"
      },
      "source": [
        "<a href=\"https://colab.research.google.com/github/audrb1999/ML-DL-Study/blob/main/git_hub12.ipynb\" target=\"_parent\"><img src=\"https://colab.research.google.com/assets/colab-badge.svg\" alt=\"Open In Colab\"/></a>"
      ]
    },
    {
      "cell_type": "markdown",
      "metadata": {
        "id": "mRHrgBRYQe_O"
      },
      "source": [
        "# ***15. 중급 Captcha Hacking ⑤ - 해킹 자동화 -*** \n",
        "\n",
        "해킹 자동화: 웹사이트 접속"
      ]
    },
    {
      "cell_type": "code",
      "metadata": {
        "id": "K3SHga2jMLxM"
      },
      "source": [
        "import requests # 웹사이트와 손쉽게 연결할 수 있게 해줌\n",
        "import shutil\n",
        "import time\n",
        "\n",
        "host = 'http://localhost:10000'# 문제나오는 주소\n",
        "url = '/start'# start(문제 풀기를 시작하면 나오는 링크)로 접속하기 위해서 설정\n",
        "\n",
        "# target_images라는 폴더 생성\n",
        "with requests.Session() as s:# 해당 웹사이트에 접속\n",
        "    answer = '' # 첫 번째에는 정답에 빈칸을 둠 > 문제를 스타트를 눌렀을 때는 정답을 보낼 필요가 없어\n",
        "    for i in range(0, 100):# 실제에서는 문제를 100번 풀어야 됬기에 100으로 설정\n",
        "        start_time = time.time()# 문제를 풀고 전송하는 시간을 알아보기위해 시간 설정\n",
        "        params = {'ans':answer}# ans파라미터에 answer값을 넣어서 전송함 \n",
        "\n",
        "        # 정답을 피라미터에 달아서 전송하여, 이미지 경로를 받아옵니다.\n",
        "        response = s.post(host + url, params)# 해당 url에 포스트 방식으로 접속을 함\n",
        "        print('Server Return:' + response.text)# 서버로부터 리턴값을 받아옴\n",
        "        if i ==0:# 첫번째에는 바로 이미지 url이 나와서\n",
        "            returned = response.text\n",
        "            image_url = host+ returned# 그걸 바로 받아옴 이후 연산\n",
        "            url = '/check'# 그 후 url값을 check으로 바꿔줌 > 정답코드를 제출할 url이 check이기 때문\n",
        "\n",
        "        else:\n",
        "            returned = response.json()# 1번째가 아닌 경우 json형태로 서버로부터 데이터가 들어오고\n",
        "            image_url = host + returned['url']# 이미지 url 정보\n",
        "\n",
        "        print('Problem' + str(i)+ ':' + image_url)\n",
        "\n",
        "\n"
      ],
      "execution_count": null,
      "outputs": []
    },
    {
      "cell_type": "markdown",
      "metadata": {
        "id": "Td3vl7_jlSlM"
      },
      "source": [
        "해킹 자동화: 구현 완료"
      ]
    },
    {
      "cell_type": "code",
      "metadata": {
        "id": "Kc5Y3pmmMQIq"
      },
      "source": [
        "        # 특정한 폴더에 이미지 파일을 다운로드 받습니다.\n",
        "        response = s.get(image_url, stream = True)# 이미지 파일 다운\n",
        "        target_image = './target_images/'+str(i)+'.png' # 이미지를 타겟 디렉토리에 저장\n",
        "        with open(target_image, 'wb') as out_file:\n",
        "            shutil.copyfileobj(response.raw, out_file)\n",
        "        del response\n",
        "\n",
        "        # 다운로드 받은 이밎 파일을 분석하여 답을 도출합니다.\n",
        "        answer_string = get_result(target_image)#이미지에 대한 string 값을 구하고\n",
        "        print('String:' + answer_string)\n",
        "        answer_string = utils.remove_first_0(answer_string)# 수를 정제\n",
        "        answer = str(eval(answer_string))# 계산 > 이게 다음번 호출 때 전달 됨!\n",
        "        print('Answer:' + answer) # 결과 출력!\n",
        "        print(f'---{time.time()-start_time} seconds---')\n"
      ],
      "execution_count": null,
      "outputs": []
    }
  ]
}