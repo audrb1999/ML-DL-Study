{
  "nbformat": 4,
  "nbformat_minor": 0,
  "metadata": {
    "colab": {
      "name": "선형 시스템 실습.ipynb",
      "provenance": [],
      "collapsed_sections": [],
      "authorship_tag": "ABX9TyMOFHvdZDkhs4bv9gAYD/ke",
      "include_colab_link": true
    },
    "kernelspec": {
      "name": "python3",
      "display_name": "Python 3"
    },
    "language_info": {
      "name": "python"
    }
  },
  "cells": [
    {
      "cell_type": "markdown",
      "metadata": {
        "id": "view-in-github",
        "colab_type": "text"
      },
      "source": [
        "<a href=\"https://colab.research.google.com/github/audrb1999/ML-DL-Study/blob/main/%EB%B0%91%EB%94%A51/%EC%84%A0%ED%98%95%EB%8C%80%EC%88%98%20%EC%8B%A4%EC%8A%B5/1.%20%EC%84%A0%ED%98%95_%EC%8B%9C%EC%8A%A4%ED%85%9C_%EC%8B%A4%EC%8A%B5.ipynb\" target=\"_parent\"><img src=\"https://colab.research.google.com/assets/colab-badge.svg\" alt=\"Open In Colab\"/></a>"
      ]
    },
    {
      "cell_type": "markdown",
      "metadata": {
        "id": "T6vxM7Adem6H"
      },
      "source": [
        "# 1번째 강의 실습"
      ]
    },
    {
      "cell_type": "code",
      "metadata": {
        "id": "kXi42o99fOGv"
      },
      "source": [
        "import numpy as np"
      ],
      "execution_count": null,
      "outputs": []
    },
    {
      "cell_type": "code",
      "metadata": {
        "colab": {
          "base_uri": "https://localhost:8080/"
        },
        "id": "BPOHE6njfOEe",
        "outputId": "d654fb3b-117f-44f2-f46f-3420d701edb7"
      },
      "source": [
        "# column vector\n",
        "\n",
        "c = np.array([1,2,3]) # 1 dimesional array\n",
        "print(c.shape)\n",
        "\n",
        "print(c[0])# 1번째 엘리먼트"
      ],
      "execution_count": null,
      "outputs": [
        {
          "output_type": "stream",
          "text": [
            "(3,)\n",
            "1\n"
          ],
          "name": "stdout"
        }
      ]
    },
    {
      "cell_type": "code",
      "metadata": {
        "colab": {
          "base_uri": "https://localhost:8080/"
        },
        "id": "0Jf-aYT4fOCH",
        "outputId": "0be14897-ac30-4775-eefc-91806e1c647b"
      },
      "source": [
        "# row vector\n",
        "\n",
        "r = np.array([[1, 2, 3]]) # row 값이 1로 고정된 벡터\n",
        "\n",
        "print(r.shape)"
      ],
      "execution_count": null,
      "outputs": [
        {
          "output_type": "stream",
          "text": [
            "(1, 3)\n"
          ],
          "name": "stdout"
        }
      ]
    },
    {
      "cell_type": "code",
      "metadata": {
        "colab": {
          "base_uri": "https://localhost:8080/"
        },
        "id": "_cfW6ztofN_2",
        "outputId": "a2858707-50cd-411a-802a-201bdd6b8eee"
      },
      "source": [
        "# creating a matrix with all zeros\n",
        "a = np.zeros((2, 2))\n",
        "print(a, '\\n')\n",
        "\n",
        "# creating a matrix filled with the same constant같은 상수로 매트릭스를 만드는 법\n",
        "c = np.full((2, 2), 7)\n",
        "print(c, '\\n')\n",
        "\n",
        "# creating a matrix with random value\n",
        "d = np.random.random((2, 2))# 0~1사이값\n",
        "print(d)"
      ],
      "execution_count": null,
      "outputs": [
        {
          "output_type": "stream",
          "text": [
            "[[0. 0.]\n",
            " [0. 0.]] \n",
            "\n",
            "[[7 7]\n",
            " [7 7]] \n",
            "\n",
            "[[0.20056007 0.37339795]\n",
            " [0.84228116 0.36643208]]\n"
          ],
          "name": "stdout"
        }
      ]
    },
    {
      "cell_type": "code",
      "metadata": {
        "colab": {
          "base_uri": "https://localhost:8080/"
        },
        "id": "EtpIUDhofN9e",
        "outputId": "8ed5e5c8-5637-4a6f-c283-c6cd2863d162"
      },
      "source": [
        "# creating a matrix\n",
        "A = np.array([[1, 2], [3, 4], [5, 6]])\n",
        "print(A)"
      ],
      "execution_count": null,
      "outputs": [
        {
          "output_type": "stream",
          "text": [
            "[[1 2]\n",
            " [3 4]\n",
            " [5 6]]\n"
          ],
          "name": "stdout"
        }
      ]
    },
    {
      "cell_type": "code",
      "metadata": {
        "colab": {
          "base_uri": "https://localhost:8080/"
        },
        "id": "LFWeKUTunF5W",
        "outputId": "c677332b-defa-4c24-dda0-05a87fce34e9"
      },
      "source": [
        "# creating another matrix\n",
        "\n",
        "B = np.array([[11, 12, 13, 14], [15, 16, 17, 18]])\n",
        "B"
      ],
      "execution_count": null,
      "outputs": [
        {
          "output_type": "execute_result",
          "data": {
            "text/plain": [
              "array([[11, 12, 13, 14],\n",
              "       [15, 16, 17, 18]])"
            ]
          },
          "metadata": {
            "tags": []
          },
          "execution_count": 8
        }
      ]
    },
    {
      "cell_type": "code",
      "metadata": {
        "colab": {
          "base_uri": "https://localhost:8080/"
        },
        "id": "yVnPqLwynF22",
        "outputId": "423b0ac1-64f2-4719-b859-da5371c794d1"
      },
      "source": [
        "# transpose a matrix\n",
        "\n",
        "A.T"
      ],
      "execution_count": null,
      "outputs": [
        {
          "output_type": "execute_result",
          "data": {
            "text/plain": [
              "array([[1, 3, 5],\n",
              "       [2, 4, 6]])"
            ]
          },
          "metadata": {
            "tags": []
          },
          "execution_count": 9
        }
      ]
    },
    {
      "cell_type": "code",
      "metadata": {
        "colab": {
          "base_uri": "https://localhost:8080/"
        },
        "id": "6UToj4SFnF0P",
        "outputId": "f0883a1e-b5b8-4433-814f-103f31e06161"
      },
      "source": [
        "# matrix - matrix multiplicatin\n",
        "np.dot(A, B) # 행렬 연산도 해주지만 내적연산도 해줌"
      ],
      "execution_count": null,
      "outputs": [
        {
          "output_type": "execute_result",
          "data": {
            "text/plain": [
              "array([[ 41,  44,  47,  50],\n",
              "       [ 93, 100, 107, 114],\n",
              "       [145, 156, 167, 178]])"
            ]
          },
          "metadata": {
            "tags": []
          },
          "execution_count": 10
        }
      ]
    },
    {
      "cell_type": "code",
      "metadata": {
        "colab": {
          "base_uri": "https://localhost:8080/",
          "height": 241
        },
        "id": "pYTVSPicnFxn",
        "outputId": "2793d10a-1213-42f5-e368-3ab22f21350d"
      },
      "source": [
        "# size should match = 사이즈는 같아야 합니다.\n",
        "\n",
        "np.dot(B, A)"
      ],
      "execution_count": null,
      "outputs": [
        {
          "output_type": "error",
          "ename": "ValueError",
          "evalue": "ignored",
          "traceback": [
            "\u001b[0;31m---------------------------------------------------------------------------\u001b[0m",
            "\u001b[0;31mValueError\u001b[0m                                Traceback (most recent call last)",
            "\u001b[0;32m<ipython-input-12-e5ec9158e85c>\u001b[0m in \u001b[0;36m<module>\u001b[0;34m()\u001b[0m\n\u001b[1;32m      1\u001b[0m \u001b[0;31m# size should match = 사이즈는 같아야 합니다.\u001b[0m\u001b[0;34m\u001b[0m\u001b[0;34m\u001b[0m\u001b[0;34m\u001b[0m\u001b[0m\n\u001b[1;32m      2\u001b[0m \u001b[0;34m\u001b[0m\u001b[0m\n\u001b[0;32m----> 3\u001b[0;31m \u001b[0mnp\u001b[0m\u001b[0;34m.\u001b[0m\u001b[0mdot\u001b[0m\u001b[0;34m(\u001b[0m\u001b[0mB\u001b[0m\u001b[0;34m,\u001b[0m \u001b[0mA\u001b[0m\u001b[0;34m)\u001b[0m\u001b[0;34m\u001b[0m\u001b[0;34m\u001b[0m\u001b[0m\n\u001b[0m",
            "\u001b[0;32m<__array_function__ internals>\u001b[0m in \u001b[0;36mdot\u001b[0;34m(*args, **kwargs)\u001b[0m\n",
            "\u001b[0;31mValueError\u001b[0m: shapes (2,4) and (3,2) not aligned: 4 (dim 1) != 3 (dim 0)"
          ]
        }
      ]
    },
    {
      "cell_type": "code",
      "metadata": {
        "id": "pJym2arcn8uF"
      },
      "source": [
        "# coefficient matrix A and a vectir b\n",
        "# 강의에 나온 기대 수명 관계식\n",
        "\n",
        "A = np.array([[60, 5.5, 1], [65, 5.0, 0], [55, 6.0, 1]]) # 몸무게 흡연 여부 등등\n",
        "B = np.array([66, 70, 78])# 타겟값\n"
      ],
      "execution_count": null,
      "outputs": []
    },
    {
      "cell_type": "code",
      "metadata": {
        "colab": {
          "base_uri": "https://localhost:8080/"
        },
        "id": "JkYRVfhVqmh_",
        "outputId": "78c33c1f-227d-4bbc-f454-550fedb02d28"
      },
      "source": [
        "# identity matrix\n",
        "\n",
        "eye3 = np.eye(3)\n",
        "eye3"
      ],
      "execution_count": null,
      "outputs": [
        {
          "output_type": "execute_result",
          "data": {
            "text/plain": [
              "array([[1., 0., 0.],\n",
              "       [0., 1., 0.],\n",
              "       [0., 0., 1.]])"
            ]
          },
          "metadata": {
            "tags": []
          },
          "execution_count": 13
        }
      ]
    },
    {
      "cell_type": "code",
      "metadata": {
        "colab": {
          "base_uri": "https://localhost:8080/"
        },
        "id": "F54pq4jmqmf_",
        "outputId": "5e809703-0272-49dd-af8a-c5d2a5f6fe05"
      },
      "source": [
        "# computing an inverse\n",
        "from numpy.linalg import inv # inverse matirx 계산, 역행렬 계산\n",
        "A_inv = inv(A)\n",
        "A_inv"
      ],
      "execution_count": null,
      "outputs": [
        {
          "output_type": "execute_result",
          "data": {
            "text/plain": [
              "array([[ 0.08695652,  0.00869565, -0.08695652],\n",
              "       [-1.13043478,  0.08695652,  1.13043478],\n",
              "       [ 2.        , -1.        , -1.        ]])"
            ]
          },
          "metadata": {
            "tags": []
          },
          "execution_count": 16
        }
      ]
    },
    {
      "cell_type": "code",
      "metadata": {
        "colab": {
          "base_uri": "https://localhost:8080/"
        },
        "id": "Nmn3X2m_qmd3",
        "outputId": "2ee47505-75ba-4026-a07a-251597995ee5"
      },
      "source": [
        "# wrong matrix multiplication\n",
        "\n",
        "A * A_inv\n",
        "\n",
        "# 아이덴티티 매트릭스가 안나옴, 원소곱이라서!"
      ],
      "execution_count": null,
      "outputs": [
        {
          "output_type": "execute_result",
          "data": {
            "text/plain": [
              "array([[ 5.21739130e+00,  4.78260870e-02, -8.69565217e-02],\n",
              "       [-7.34782609e+01,  4.34782609e-01,  0.00000000e+00],\n",
              "       [ 1.10000000e+02, -6.00000000e+00, -1.00000000e+00]])"
            ]
          },
          "metadata": {
            "tags": []
          },
          "execution_count": 17
        }
      ]
    },
    {
      "cell_type": "code",
      "metadata": {
        "colab": {
          "base_uri": "https://localhost:8080/"
        },
        "id": "6TS5riIDqmbv",
        "outputId": "b180b513-b59b-40e8-da89-21d50539de21"
      },
      "source": [
        "A @ A_inv # indentity matrix"
      ],
      "execution_count": null,
      "outputs": [
        {
          "output_type": "execute_result",
          "data": {
            "text/plain": [
              "array([[ 1.0000000e+00,  0.0000000e+00, -4.4408921e-16],\n",
              "       [ 8.8817842e-16,  1.0000000e+00, -8.8817842e-16],\n",
              "       [-8.8817842e-16,  0.0000000e+00,  1.0000000e+00]])"
            ]
          },
          "metadata": {
            "tags": []
          },
          "execution_count": 18
        }
      ]
    },
    {
      "cell_type": "code",
      "metadata": {
        "colab": {
          "base_uri": "https://localhost:8080/"
        },
        "id": "FQ4sEHLpr7Fn",
        "outputId": "a71862d6-0a5e-4439-c5fe-5841e71733e1"
      },
      "source": [
        "# solution of a linear system\n",
        "\n",
        "x = A_inv.dot(B)\n",
        "\n",
        "x\n",
        "# 최종 솔루션 역행렬과 타겟 벡터를 행렬곱함\n"
      ],
      "execution_count": null,
      "outputs": [
        {
          "output_type": "execute_result",
          "data": {
            "text/plain": [
              "array([ -0.43478261,  19.65217391, -16.        ])"
            ]
          },
          "metadata": {
            "tags": []
          },
          "execution_count": 20
        }
      ]
    },
    {
      "cell_type": "markdown",
      "metadata": {
        "id": "8h5ATQkwsgR8"
      },
      "source": [
        "$Ax = B$\n",
        "\n",
        "$A^{-1}Ax = A^{-1}B$\n",
        "\n",
        "$x = A^{-1}B$\n",
        "\n",
        "identity matrix와 x를 행렬곱하니 x가 나옴"
      ]
    },
    {
      "cell_type": "code",
      "metadata": {
        "colab": {
          "base_uri": "https://localhost:8080/"
        },
        "id": "BfBiBeRoqmZv",
        "outputId": "809a9b89-5df7-4c86-8916-72a0e6cfa7eb"
      },
      "source": [
        "from numpy.linalg import solve\n",
        "\n",
        "x = solve(A, B) # 역행렬 값을 구해서 직접 곱해줘 값을 도출해줌 x, 역행렬을 구하지않고 바로 풀어내는 것\n",
        "x"
      ],
      "execution_count": null,
      "outputs": [
        {
          "output_type": "execute_result",
          "data": {
            "text/plain": [
              "array([ -0.43478261,  19.65217391, -16.        ])"
            ]
          },
          "metadata": {
            "tags": []
          },
          "execution_count": 22
        }
      ]
    },
    {
      "cell_type": "markdown",
      "metadata": {
        "id": "-5YJyoy1veA3"
      },
      "source": [
        "역행렬을 구해서 곱하는 경우는 드뭅니다.\n",
        "\n",
        "그렇게 했을 경우 오류 오차가 커집니다, 그렇기에 직접적으로 inverse를 구하지 않습니다."
      ]
    },
    {
      "cell_type": "markdown",
      "metadata": {
        "id": "XVuDocXcv5du"
      },
      "source": [
        "inverse를 구하지않고 바로 풀어내는 것은 컴퓨터가 해석적으로 푸는 것이기에 오차가 적음!\n",
        "\n",
        "사람이 직업 미분을 해석적으로하면 $\\frac d {dx} x^3 = 3$이렇게 나오지만 수치 미분하면 오차가 나오는 그럼 느낌 "
      ]
    },
    {
      "cell_type": "markdown",
      "metadata": {
        "id": "CHP35la6wQFO"
      },
      "source": [
        "만약 \n",
        "\n",
        "$Ax = b$ 에서 A = 3, b = 6이라면\n",
        "\n",
        "> 해석적으로는 x가 2라는 것을 알 수 있지만 역행렬을 구하게 되면\n",
        "\n",
        "$x = A^{-1}b$ \n",
        "\n",
        "A_inv = 나누기를 의미함 즉 $\\frac 1 3$이라는건데\n",
        "\n",
        "컴퓨터가 $\\frac 1 3 = 0.33333...$ 이렇게 인식하기에 반올림해야 되므로 오차 발생!\n",
        "\n",
        "작은 오차지만 그게 나비효과로 커짐!\n",
        "\n"
      ]
    },
    {
      "cell_type": "markdown",
      "metadata": {
        "id": "YslmnPouxuuH"
      },
      "source": [
        "cs 231n 넘파이 튜토리얼 해보기\n",
        "https://cs231n.github.io/python-numpy-tutorial/\n",
        "\n",
        "https://towardsdatascience.com/linear-algebra-cheat-sheet-for-deep-learning-cd67aba4526c\n"
      ]
    }
  ]
}