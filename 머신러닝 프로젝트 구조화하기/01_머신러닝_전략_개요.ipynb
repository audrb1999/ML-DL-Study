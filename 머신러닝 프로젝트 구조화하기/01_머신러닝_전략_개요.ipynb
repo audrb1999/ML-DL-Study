{
  "nbformat": 4,
  "nbformat_minor": 0,
  "metadata": {
    "colab": {
      "name": "01.머신러닝 전략 개요.ipynb",
      "provenance": [],
      "collapsed_sections": [],
      "authorship_tag": "ABX9TyO5lamZ+YoTyqchhOsw4k9G",
      "include_colab_link": true
    },
    "kernelspec": {
      "name": "python3",
      "display_name": "Python 3"
    },
    "language_info": {
      "name": "python"
    }
  },
  "cells": [
    {
      "cell_type": "markdown",
      "metadata": {
        "id": "view-in-github",
        "colab_type": "text"
      },
      "source": [
        "<a href=\"https://colab.research.google.com/github/audrb1999/ML-DL-Study/blob/main/%EB%A8%B8%EC%8B%A0%EB%9F%AC%EB%8B%9D%20%ED%94%84%EB%A1%9C%EC%A0%9D%ED%8A%B8%20%EA%B5%AC%EC%A1%B0%ED%99%94%ED%95%98%EA%B8%B0/01_%EB%A8%B8%EC%8B%A0%EB%9F%AC%EB%8B%9D_%EC%A0%84%EB%9E%B5_%EA%B0%9C%EC%9A%94.ipynb\" target=\"_parent\"><img src=\"https://colab.research.google.com/assets/colab-badge.svg\" alt=\"Open In Colab\"/></a>"
      ]
    },
    {
      "cell_type": "markdown",
      "metadata": {
        "id": "5_nSVNAoUTSS"
      },
      "source": [
        "#머신러닝 전략 개요"
      ]
    },
    {
      "cell_type": "markdown",
      "metadata": {
        "id": "mw2QtHluUTP7"
      },
      "source": [
        "머신러닝 프로젝트를 구성하는 방법을 다루는 강의\n",
        "\n",
        "머신러닝 전략"
      ]
    },
    {
      "cell_type": "markdown",
      "metadata": {
        "id": "nsMU22ugUTNq"
      },
      "source": [
        "고양이 분류기 성능을 올리는 방법\n",
        "\n",
        "1. 더 많은 학습 데이터를 모은다\n",
        "2. 학습 데이터의 다양성 (다양한 고양이 자세)를 모은다\n",
        "3. 학습을 오래 시킨다\n",
        "4. 더 효율적인 최적화 알고리즘을 사용한다\n",
        "5. 상황에 알맞게 큰 신경망 or 작은 신경망을 사용한다.\n",
        "6. 드롭아웃 사용\n",
        "7. L2 일반화\n",
        "8. 활성화 함수나 은닉층의 수를 바꿔서 네트워크의 구조를 바꿈\n",
        "\n",
        "딥러닝은 학습시간이 오래걸립니다.\n",
        "\n",
        "앤드류 교수님이 하신 프로젝트 중 성능을 올리기 위해 여러 조치를 취한 뒤 학습을 시켰는데 6달 뒤에 결과가 나왔고 성능의 변화는 없었습니다.\n",
        "\n",
        "이렇게 여러 방법들을 실제 적용했을 때 제대로 작동이 이루어지는지는 긴 학습기간이 지나야 확인 할 수 있습니다.\n",
        "\n",
        "그렇기에 시간을 아낄려면 어떤 방법이 쓸만한 방법인지 아닌지를 구분하는 것이 중요합니다.\n",
        "\n",
        "- 이 강의에서는 머신러닝 문제를 분석하는 전략을 가르쳐줍니다!"
      ]
    }
  ]
}